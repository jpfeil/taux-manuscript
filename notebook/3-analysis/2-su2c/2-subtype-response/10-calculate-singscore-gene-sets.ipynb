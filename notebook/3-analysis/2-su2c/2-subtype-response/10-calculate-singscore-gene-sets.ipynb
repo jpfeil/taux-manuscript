{
 "cells": [
  {
   "cell_type": "code",
   "execution_count": 1,
   "id": "bb250234-015e-41a5-a28d-de5e428acf98",
   "metadata": {
    "tags": []
   },
   "outputs": [
    {
     "name": "stderr",
     "output_type": "stream",
     "text": [
      "── \u001b[1mAttaching core tidyverse packages\u001b[22m ──────────────────────── tidyverse 2.0.0 ──\n",
      "\u001b[32m✔\u001b[39m \u001b[34mdplyr    \u001b[39m 1.1.2     \u001b[32m✔\u001b[39m \u001b[34mreadr    \u001b[39m 2.1.4\n",
      "\u001b[32m✔\u001b[39m \u001b[34mforcats  \u001b[39m 1.0.0     \u001b[32m✔\u001b[39m \u001b[34mstringr  \u001b[39m 1.5.0\n",
      "\u001b[32m✔\u001b[39m \u001b[34mggplot2  \u001b[39m 3.4.3     \u001b[32m✔\u001b[39m \u001b[34mtibble   \u001b[39m 3.2.1\n",
      "\u001b[32m✔\u001b[39m \u001b[34mlubridate\u001b[39m 1.9.2     \u001b[32m✔\u001b[39m \u001b[34mtidyr    \u001b[39m 1.3.0\n",
      "\u001b[32m✔\u001b[39m \u001b[34mpurrr    \u001b[39m 1.0.2     \n",
      "── \u001b[1mConflicts\u001b[22m ────────────────────────────────────────── tidyverse_conflicts() ──\n",
      "\u001b[31m✖\u001b[39m \u001b[34mdplyr\u001b[39m::\u001b[32mfilter()\u001b[39m masks \u001b[34mstats\u001b[39m::filter()\n",
      "\u001b[31m✖\u001b[39m \u001b[34mdplyr\u001b[39m::\u001b[32mlag()\u001b[39m    masks \u001b[34mstats\u001b[39m::lag()\n",
      "\u001b[36mℹ\u001b[39m Use the conflicted package (\u001b[3m\u001b[34m<http://conflicted.r-lib.org/>\u001b[39m\u001b[23m) to force all conflicts to become errors\n"
     ]
    }
   ],
   "source": [
    "library(singscore)\n",
    "library(tidyverse)\n",
    "library(ggplot2)"
   ]
  },
  {
   "cell_type": "code",
   "execution_count": 2,
   "id": "e0511921-9df8-49ae-86c2-f59c28c9cd75",
   "metadata": {
    "tags": []
   },
   "outputs": [],
   "source": [
    "# Set random seed so this part is reproducible\n",
    "# https://www.random.org/ 2023-08-09\n",
    "set.seed(3866) "
   ]
  },
  {
   "cell_type": "code",
   "execution_count": 3,
   "id": "3fbbe0fe-84c2-4d13-94c1-8634f862dc15",
   "metadata": {
    "tags": []
   },
   "outputs": [],
   "source": [
    "gs0 <- read.table(\"../../../../data/gs/IO-Atlas-NSCLC-NSCLC-Response-Cluster-0-TPM-MinMaxNorm-TRAIN-2023-08-10-V4-gene-sets.tsv\",\n",
    "                 sep='\\t', \n",
    "                 header=T)\n",
    "\n",
    "gs1 <- read.table(\"../../../../data/gs/IO-Atlas-NSCLC-NSCLC-Response-Cluster-1-TPM-MinMaxNorm-TRAIN-2023-08-10-V4-gene-sets.tsv\",\n",
    "                 sep='\\t', \n",
    "                 header=T)\n",
    "\n",
    "gs2 <- read.table(\"../../../../data/gs/IO-Atlas-NSCLC-NSCLC-Response-Cluster-2-TPM-MinMaxNorm-TRAIN-2023-08-10-V4-gene-sets.tsv\",\n",
    "                 sep='\\t', \n",
    "                 header=T)\n",
    "\n",
    "gene_sets <- list(gs0, gs1, gs2)\n",
    "up_gene_set_db <- list()\n",
    "dwn_gene_set_db <- list()\n",
    "\n",
    "for (i in seq(3)) {\n",
    "    up_response_subtype_gs_db <- list()\n",
    "    dwn_response_subtype_gs_db <- list()\n",
    "    for (gene_set in unique(gene_sets[i][[1]]$gs))\n",
    "        {\n",
    "            \n",
    "            up_response_subtype_gs_db[[gene_set]] <- gene_sets[i][[1]] %>% filter((gs == gene_set) & (direction == \"up\")) %>%  pull(\"gene\") %>% unique()\n",
    "            dwn_response_subtype_gs_db[[gene_set]] <- gene_sets[i][[1]] %>% filter((gs == gene_set) & (direction == \"down\")) %>%  pull(\"gene\") %>% unique()\n",
    "        }\n",
    "    up_gene_set_db[[i]] <- up_response_subtype_gs_db\n",
    "    dwn_gene_set_db[[i]] <- dwn_response_subtype_gs_db\n",
    "}\n"
   ]
  },
  {
   "cell_type": "code",
   "execution_count": 4,
   "id": "5c1293bf-d8cf-40b8-99af-7938ff4b86bd",
   "metadata": {
    "tags": []
   },
   "outputs": [],
   "source": [
    "minmax <- read.table(\"../../../../data/expression/processed/train/V4/IO-Atlas-NSCLC-TPM-MinMaxNorm-TRAIN-2023-08-10-V4.tsv\", \n",
    "                          sep='\\t', \n",
    "                          row.names=1, \n",
    "                          header=T)\n",
    "\n",
    "labels <- read.table(\"../../../../data/expression/processed/train/V4/IO-Atlas-NSCLC-LABEL-TRAIN-2023-08-10-V4.tsv\", \n",
    "                  sep='\\t', \n",
    "                  row.names=1, \n",
    "                  header=T)\n",
    "\n",
    "rnk <- rankGenes(minmax)\n",
    "\n",
    "scores <- data.frame()\n",
    "\n",
    "for (i in seq(3))\n",
    "    {\n",
    "        \n",
    "        for (gs in names(up_gene_set_db[[i]]))\n",
    "            {\n",
    "                score <- simpleScore(rnk, \n",
    "                                     upSet = up_gene_set_db[[i]][[gs]],\n",
    "                                     downSet = dwn_gene_set_db[[i]][[gs]])\n",
    "            \n",
    "                score_name <- sprintf(\"Response Subtype Cluster %s %s\", i - 1, gs)\n",
    "            \n",
    "                scores[row.names(score), score_name] <- score$TotalScore\n",
    "            }\n",
    "    }\n",
    "\n",
    "write.table(scores, \n",
    "             \"../../../../data/enrichment/IO-Atlas-NSCLC-TPM-MinMaxNorm-TRAIN-2023-08-10-V4-response-subtype-clusters.tsv\",\n",
    "             sep='\\t')"
   ]
  },
  {
   "cell_type": "code",
   "execution_count": 5,
   "id": "73aa07be-7b1c-4c17-817c-087d6f3df9cc",
   "metadata": {
    "tags": []
   },
   "outputs": [],
   "source": [
    "minmax <- read.table(\"../../../../data/expression/processed/test/V4/IO-Atlas-NSCLC-TPM-MinMaxNorm-TEST-2023-08-10-V4.tsv\", \n",
    "                          sep='\\t', \n",
    "                          row.names=1, \n",
    "                          header=T)\n",
    "\n",
    "labels <- read.table(\"../../../../data/expression/processed/test/V4/IO-Atlas-NSCLC-LABEL-TEST-2023-08-10-V4.tsv\", \n",
    "                  sep='\\t', \n",
    "                  row.names=1, \n",
    "                  header=T)\n",
    "\n",
    "rnk <- rankGenes(minmax)\n",
    "\n",
    "scores <- data.frame()\n",
    "\n",
    "for (i in seq(3))\n",
    "    {\n",
    "        \n",
    "        for (gs in names(up_gene_set_db[[i]]))\n",
    "            {\n",
    "                score <- simpleScore(rnk, \n",
    "                                     upSet = up_gene_set_db[[i]][[gs]],\n",
    "                                     downSet = dwn_gene_set_db[[i]][[gs]])\n",
    "            \n",
    "                score_name <- sprintf(\"Response Subtype Cluster %s %s\", i, gs)\n",
    "            \n",
    "                scores[row.names(score), score_name] <- score$TotalScore\n",
    "            }\n",
    "    }\n",
    "\n",
    "write.table(scores, \n",
    "             \"../../../../data/enrichment/IO-Atlas-NSCLC-TPM-MinMaxNorm-TEST-2023-08-10-V4-response-subtype-clusters.tsv\",\n",
    "             sep='\\t')"
   ]
  },
  {
   "cell_type": "code",
   "execution_count": null,
   "id": "f1588834-9d67-4940-89d0-389581dc9035",
   "metadata": {},
   "outputs": [],
   "source": []
  }
 ],
 "metadata": {
  "kernelspec": {
   "display_name": "R",
   "language": "R",
   "name": "ir"
  },
  "language_info": {
   "codemirror_mode": "r",
   "file_extension": ".r",
   "mimetype": "text/x-r-source",
   "name": "R",
   "pygments_lexer": "r",
   "version": "4.2.3"
  }
 },
 "nbformat": 4,
 "nbformat_minor": 5
}
