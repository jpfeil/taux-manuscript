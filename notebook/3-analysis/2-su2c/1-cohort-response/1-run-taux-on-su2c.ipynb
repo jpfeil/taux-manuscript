{
 "cells": [
  {
   "cell_type": "markdown",
   "id": "1dc45bc5-fa00-4e7e-bd4c-407231bc5f9e",
   "metadata": {},
   "source": [
    "# Script to run tauX\n",
    "\n",
    "This is to document the command that was run to generate the ratios"
   ]
  },
  {
   "cell_type": "code",
   "execution_count": 1,
   "id": "61d9232c-9c9b-46eb-b294-a9c34d8415aa",
   "metadata": {},
   "outputs": [],
   "source": [
    "#docker run -it --rm -v ${PWD}:/data sfo-docker-dtr.abbvienet.com/pfeiljx/taux@sha256:7c810bacefab7ded70fbdb7b2fd3c156e8c21431a1415240dbe4c7b8b4c28bae \\\n",
    "#       -x IO-Atlas-NSCLC-NSCLC-Response-Cluster-0-TPM-MinMaxNorm-TRAIN-2023-08-10-V4.tsv \\\n",
    "#       -l IO-Atlas-NSCLC-NSCLC-Response-Cluster-0-LABEL-TRAIN-2023-08-10-V4.tsv \\\n",
    "#       -r IO-Atlas-NSCLC-NSCLC-Response-Cluster-0-CLUSTERS-TRAIN-2023-08-10-V4.tsv \\\n",
    "#               -p 3 -t 6 --mode original \\\n",
    "#       -o IO-Atlas-NSCLC-NSCLC-Response-Cluster-0-TPM-MinMaxNorm-TRAIN-2023-08-10-V4.taux\n",
    "#\n",
    "#docker run -it --rm -v ${PWD}:/data sfo-docker-dtr.abbvienet.com/pfeiljx/taux@sha256:7c810bacefab7ded70fbdb7b2fd3c156e8c21431a1415240dbe4c7b8b4c28bae \\\n",
    "#       -x IO-Atlas-NSCLC-NSCLC-Response-Cluster-1-TPM-MinMaxNorm-TRAIN-2023-08-10-V4.tsv \\\n",
    "#       -l IO-Atlas-NSCLC-NSCLC-Response-Cluster-1-LABEL-TRAIN-2023-08-10-V4.tsv \\\n",
    "#       -r IO-Atlas-NSCLC-NSCLC-Response-Cluster-1-CLUSTERS-TRAIN-2023-08-10-V4.tsv \\\n",
    "#               -p 3 -t 6 --mode original \\\n",
    "#       -o IO-Atlas-NSCLC-NSCLC-Response-Cluster-1-TPM-MinMaxNorm-TRAIN-2023-08-10-V4.taux\n",
    "#\n",
    "#docker run -it --rm -v ${PWD}:/data sfo-docker-dtr.abbvienet.com/pfeiljx/taux@sha256:7c810bacefab7ded70fbdb7b2fd3c156e8c21431a1415240dbe4c7b8b4c28bae \\\n",
    "#        -x IO-Atlas-NSCLC-NSCLC-Response-Cluster-2-TPM-MinMaxNorm-TRAIN-2023-08-10-V4.tsv \\\n",
    "#        -l IO-Atlas-NSCLC-NSCLC-Response-Cluster-2-LABEL-TRAIN-2023-08-10-V4.tsv \\\n",
    "#        -r IO-Atlas-NSCLC-NSCLC-Response-Cluster-2-CLUSTERS-TRAIN-2023-08-10-V4.tsv \\\n",
    "#        -p 3 -t 4 --mode original \\\n",
    "#        -o IO-Atlas-NSCLC-NSCLC-Response-Cluster-2-TPM-MinMaxNorm-TRAIN-2023-08-10-V4.taux"
   ]
  },
  {
   "cell_type": "code",
   "execution_count": 2,
   "id": "9ef803fc-a4f8-42d8-b913-a0876b52e3a8",
   "metadata": {
    "tags": []
   },
   "outputs": [],
   "source": [
    "# Rerunning with a positive effect selection"
   ]
  },
  {
   "cell_type": "code",
   "execution_count": 1,
   "id": "8e5f9479-cfc5-4b7a-b3ca-7cfe028e33e6",
   "metadata": {},
   "outputs": [],
   "source": [
    "#docker run -it --rm -v ${PWD}:/data sfo-docker-dtr.abbvienet.com/pfeiljx/taux@sha256:714fef0275c6955c60e08cf3976eeb1750714b2016e38c6523d8052bc20a9515 \\\n",
    "#       -x IO-Atlas-NSCLC-NSCLC-Response-Cluster-0-TPM-MinMaxNorm-TRAIN-2023-08-10-V4.tsv \\\n",
    "#       -l IO-Atlas-NSCLC-NSCLC-Response-Cluster-0-LABEL-TRAIN-2023-08-10-V4.tsv \\\n",
    "#       -r IO-Atlas-NSCLC-NSCLC-Response-Cluster-0-CLUSTERS-TRAIN-2023-08-10-V4.tsv \\\n",
    "#               -p 2 -t 7 --mode original \\\n",
    "#       -o IO-Atlas-NSCLC-NSCLC-Response-Cluster-0-TPM-MinMaxNorm-TRAIN-2023-08-10-V4-R2.taux\n",
    "#\n",
    "#docker run -it --rm -v ${PWD}:/data sfo-docker-dtr.abbvienet.com/pfeiljx/taux@sha256:714fef0275c6955c60e08cf3976eeb1750714b2016e38c6523d8052bc20a9515 \\\n",
    "#       -x IO-Atlas-NSCLC-NSCLC-Response-Cluster-1-TPM-MinMaxNorm-TRAIN-2023-08-10-V4.tsv \\\n",
    "#       -l IO-Atlas-NSCLC-NSCLC-Response-Cluster-1-LABEL-TRAIN-2023-08-10-V4.tsv \\\n",
    "#       -r IO-Atlas-NSCLC-NSCLC-Response-Cluster-1-CLUSTERS-TRAIN-2023-08-10-V4.tsv \\\n",
    "#               -p 2 -t 7 --mode original \\\n",
    "#       -o IO-Atlas-NSCLC-NSCLC-Response-Cluster-1-TPM-MinMaxNorm-TRAIN-2023-08-10-V4-R2.taux\n",
    "#\n",
    "#docker run -it --rm -v ${PWD}:/data sfo-docker-dtr.abbvienet.com/pfeiljx/taux@sha256:714fef0275c6955c60e08cf3976eeb1750714b2016e38c6523d8052bc20a9515 \\\n",
    "#        -x IO-Atlas-NSCLC-NSCLC-Response-Cluster-2-TPM-MinMaxNorm-TRAIN-2023-08-10-V4.tsv \\\n",
    "#        -l IO-Atlas-NSCLC-NSCLC-Response-Cluster-2-LABEL-TRAIN-2023-08-10-V4.tsv \\\n",
    "#        -r IO-Atlas-NSCLC-NSCLC-Response-Cluster-2-CLUSTERS-TRAIN-2023-08-10-V4.tsv \\\n",
    "#        -p 2 -t 4 --mode original \\\n",
    "#        -o IO-Atlas-NSCLC-NSCLC-Response-Cluster-2-TPM-MinMaxNorm-TRAIN-2023-08-10-V4-R2.taux"
   ]
  },
  {
   "cell_type": "code",
   "execution_count": null,
   "id": "48968898-c76a-424f-a215-2f85920baffc",
   "metadata": {},
   "outputs": [],
   "source": []
  }
 ],
 "metadata": {
  "kernelspec": {
   "display_name": "Python 3 (ipykernel)",
   "language": "python",
   "name": "python3"
  },
  "language_info": {
   "codemirror_mode": {
    "name": "ipython",
    "version": 3
   },
   "file_extension": ".py",
   "mimetype": "text/x-python",
   "name": "python",
   "nbconvert_exporter": "python",
   "pygments_lexer": "ipython3",
   "version": "3.10.11"
  }
 },
 "nbformat": 4,
 "nbformat_minor": 5
}
