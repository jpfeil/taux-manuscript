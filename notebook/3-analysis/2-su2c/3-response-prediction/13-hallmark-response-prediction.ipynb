{
 "cells": [
  {
   "cell_type": "code",
   "execution_count": 1,
   "id": "28f1d130-52d7-437f-acd8-f5eafb24713f",
   "metadata": {
    "tags": []
   },
   "outputs": [
    {
     "data": {
      "text/plain": [
       "sklearn.exceptions.ConvergenceWarning('ignore')"
      ]
     },
     "execution_count": 1,
     "metadata": {},
     "output_type": "execute_result"
    }
   ],
   "source": [
    "import pandas as pd\n",
    "import optuna\n",
    "import numpy as np\n",
    "import warnings\n",
    "import logging\n",
    "import copy\n",
    "import timeout_decorator\n",
    "\n",
    "from sklearn.metrics import RocCurveDisplay\n",
    "import matplotlib.pyplot as plt\n",
    "from lightgbm import LGBMClassifier\n",
    "from sklearn import linear_model\n",
    "from sklearn.svm import SVC\n",
    "from sklearn.exceptions import ConvergenceWarning\n",
    "from sklearn.metrics import f1_score\n",
    "from sklearn.model_selection import cross_val_score, RepeatedStratifiedKFold\n",
    "\n",
    "logger = logging.getLogger()\n",
    "\n",
    "optuna.logging.set_verbosity(optuna.logging.WARNING)\n",
    "\n",
    "ConvergenceWarning(\"ignore\")"
   ]
  },
  {
   "cell_type": "code",
   "execution_count": 2,
   "id": "eb73d966-ece0-4d34-88de-afb51ad2083b",
   "metadata": {
    "tags": []
   },
   "outputs": [],
   "source": [
    "# Set random seed so this part is reproducible\n",
    "# https://www.random.org/ 2023-08-09\n",
    "np.random.seed(3866)"
   ]
  },
  {
   "cell_type": "code",
   "execution_count": 3,
   "id": "e552c93c-1b11-4752-9f5d-4bd87a056f4a",
   "metadata": {
    "tags": []
   },
   "outputs": [],
   "source": [
    "class StopWhenPerfectScoreReached:\n",
    "    def __call__(self, study: optuna.study.Study, trial: optuna.trial.FrozenTrial) -> None:\n",
    "        if trial.value == 1.0:\n",
    "            study.stop()\n",
    "\n",
    "def get_elasticnet_model(X_train: np.ndarray, y_train: np.ndarray, n_trials=100):\n",
    "\n",
    "    @timeout_decorator.timeout(30, timeout_exception=optuna.TrialPruned)\n",
    "    def objective(trial):\n",
    "    \n",
    "        splits = trial.suggest_categorical(\"splits\", [2, 3, 4, 5])\n",
    "        \n",
    "        penalty = trial.suggest_categorical(\"penalty\", [\"elasticnet\"])\n",
    "        \n",
    "        solver = trial.suggest_categorical(\"solver\", [\"saga\"])\n",
    "\n",
    "        l1_ratio = trial.suggest_float(\"l1_ratio\", 0.0, 1.0)\n",
    "        \n",
    "        logreg_c = trial.suggest_float(\"logreg_c\", 1e-4, 1e2, log=True)\n",
    "        \n",
    "        weight = trial.suggest_categorical(\"weight\", [None, \"balanced\"])\n",
    "\n",
    "        max_iter = trial.suggest_int(\"max_iter\", 1000, 10000, log=True)\n",
    "\n",
    "        clf = linear_model.LogisticRegression(\n",
    "                        C=logreg_c,\n",
    "                        penalty=penalty,\n",
    "                        solver=solver,\n",
    "                        random_state=3866, \n",
    "                        max_iter=max_iter,\n",
    "                        l1_ratio=l1_ratio,\n",
    "                        class_weight=weight,\n",
    "                        n_jobs=-1)\n",
    "\n",
    "        try:\n",
    "\n",
    "            with warnings.catch_warnings():\n",
    "                \n",
    "                warnings.filterwarnings(\"ignore\")\n",
    "\n",
    "                scores = cross_val_score(clf, \n",
    "                                        X_train, \n",
    "                                        y_train, \n",
    "                                        cv=RepeatedStratifiedKFold(n_splits=splits, n_repeats=5, random_state=3866),\n",
    "                                        n_jobs=-1,\n",
    "                                        scoring=\"f1\")\n",
    "\n",
    "                return np.median(scores).item()\n",
    "            \n",
    "        except Exception as e:\n",
    "            raise optuna.TrialPruned(e)\n",
    "\n",
    "    study = optuna.create_study(direction=\"maximize\", pruner=optuna.pruners.MedianPruner(n_warmup_steps=10))\n",
    "    study.optimize(objective, n_trials=n_trials, catch=(), callbacks=[StopWhenPerfectScoreReached()])\n",
    "\n",
    "    clf = linear_model.LogisticRegression(\n",
    "        C=study.best_params[\"logreg_c\"],\n",
    "        penalty=study.best_params[\"penalty\"],\n",
    "        solver=study.best_params[\"solver\"],\n",
    "        random_state=3866, \n",
    "        max_iter=study.best_params[\"max_iter\"], \n",
    "        l1_ratio=study.best_params[\"l1_ratio\"],\n",
    "        class_weight=study.best_params[\"weight\"],\n",
    "        n_jobs=-1)\n",
    "\n",
    "    with warnings.catch_warnings():\n",
    "        warnings.filterwarnings(\"ignore\")\n",
    "        clf.fit(X_train, y_train)\n",
    "\n",
    "    return clf, study.best_value\n",
    "\n",
    "\n",
    "def get_svm_rbf_model(X_train, y_train, n_trials=500):\n",
    "    \n",
    "    @timeout_decorator.timeout(30, timeout_exception=optuna.TrialPruned)\n",
    "    def objective(trial) -> float:\n",
    "    \n",
    "        kernel = trial.suggest_categorical(\"kernel\",\n",
    "                                           [\"rbf\"])\n",
    "        \n",
    "        weight = trial.suggest_categorical(\"weight\",\n",
    "                                           [None, \"balanced\"])\n",
    "        \n",
    "        gamma = trial.suggest_float(\"gamma\", 1e-4, 1e4, log=True)\n",
    "        \n",
    "        logreg_c = trial.suggest_float(\"logreg_c\", 1e-4, 1e4, log=True)\n",
    "        \n",
    "        splits = trial.suggest_categorical(\"splits\", [2, 3, 4, 5])\n",
    "\n",
    "        clf = SVC(kernel=kernel, \n",
    "                  class_weight=weight, \n",
    "                  C=logreg_c,\n",
    "                  gamma=gamma,\n",
    "                  random_state=3866, \n",
    "                  max_iter=-1,\n",
    "                  probability=True)\n",
    "\n",
    "        try:\n",
    "            scores = cross_val_score(clf, \n",
    "                                     X_train, \n",
    "                                     y_train, \n",
    "                                     cv=RepeatedStratifiedKFold(n_splits=splits, n_repeats=5, random_state=3866),\n",
    "                                     n_jobs=-1,\n",
    "                                     scoring=\"f1\")\n",
    "                                     \n",
    "            return np.median(scores).item()\n",
    "            \n",
    "        except Exception as e:\n",
    "            logger.exception(e)\n",
    "        \n",
    "        return np.nan\n",
    "\n",
    "    study = optuna.create_study(direction=\"maximize\", \n",
    "                                pruner=optuna.pruners.MedianPruner(n_warmup_steps=10))\n",
    "\n",
    "    study.optimize(objective, n_trials=n_trials, catch=(), callbacks=[StopWhenPerfectScoreReached()])\n",
    "\n",
    "    clf = SVC(kernel=study.best_params[\"kernel\"], \n",
    "              class_weight=study.best_params[\"weight\"], \n",
    "              C=study.best_params[\"logreg_c\"], \n",
    "              gamma=study.best_params[\"gamma\"], \n",
    "              random_state=3866, \n",
    "              max_iter=-1,\n",
    "              probability=True)\n",
    "\n",
    "    clf.fit(X_train, y_train)\n",
    "\n",
    "    return clf, study.best_value\n",
    "\n",
    "\n",
    "def get_svm_linear_model(X_train, y_train, n_trials=500):\n",
    "\n",
    "    @timeout_decorator.timeout(30, timeout_exception=optuna.TrialPruned) \n",
    "    def objective(trial) -> float:\n",
    "    \n",
    "        kernel = trial.suggest_categorical(\"kernel\",\n",
    "                                           [\"linear\"])\n",
    "        \n",
    "        weight = trial.suggest_categorical(\"weight\",\n",
    "                                           [None, \"balanced\"])\n",
    "        \n",
    "        gamma = trial.suggest_float(\"gamma\", 1e-4, 1e4, log=True)\n",
    "        \n",
    "        logreg_c = trial.suggest_float(\"logreg_c\", 1e-4, 1e4, log=True)\n",
    "        \n",
    "        splits = trial.suggest_categorical(\"splits\", [2, 3, 4, 5])\n",
    "\n",
    "        clf = SVC(kernel=kernel, \n",
    "                  class_weight=weight, \n",
    "                  C=logreg_c,\n",
    "                  gamma=gamma,\n",
    "                  random_state=3866, \n",
    "                  max_iter=-1)\n",
    "\n",
    "        try:\n",
    "            scores = cross_val_score(clf, \n",
    "                                     X_train, \n",
    "                                     y_train, \n",
    "                                     cv=RepeatedStratifiedKFold(n_splits=splits, n_repeats=5, random_state=3866),\n",
    "                                     n_jobs=-1,\n",
    "                                     scoring=\"f1\")\n",
    "\n",
    "            return np.median(scores).item()\n",
    "            \n",
    "        except Exception as e:\n",
    "            logger.exception(e)\n",
    "        \n",
    "        return np.nan\n",
    "\n",
    "    study = optuna.create_study(direction=\"maximize\", \n",
    "                                pruner=optuna.pruners.MedianPruner(n_warmup_steps=10))\n",
    "\n",
    "    study.optimize(objective, n_trials=n_trials, catch=(), callbacks=[StopWhenPerfectScoreReached()])\n",
    "\n",
    "    clf = SVC(kernel=study.best_params[\"kernel\"], \n",
    "              class_weight=study.best_params[\"weight\"], \n",
    "              C=study.best_params[\"logreg_c\"], \n",
    "              gamma=study.best_params[\"gamma\"], \n",
    "              random_state=3866, \n",
    "              max_iter=-1)\n",
    "\n",
    "    clf.fit(X_train, y_train)\n",
    "\n",
    "    return clf, study.best_value\n",
    "\n",
    "\n",
    "def get_lightgbm_model(X_train, y_train, n_trials=500):\n",
    "    \"\"\"\n",
    "    Optimizes and returns a LightGBM classifier object\n",
    "\n",
    "    Args:\n",
    "        data (np.array): _description_\n",
    "        labels (np.array): _description_\n",
    "        n_trials (int, optional): Number of optimization trials. Defaults to 100.\n",
    "\n",
    "    Returns:\n",
    "        LGBMClassifier: Optimized instance of lightgbm classifier\n",
    "    \"\"\"\n",
    "\n",
    "    @timeout_decorator.timeout(30, timeout_exception=optuna.TrialPruned)\n",
    "    def objective(trial) -> float:\n",
    "    \n",
    "        splits = trial.suggest_categorical(\"splits\", [2, 3, 4, 5])\n",
    "\n",
    "        # Can't have more splits than positive cases\n",
    "        if splits >= len(y_train[y_train == 1]):\n",
    "            raise optuna.exceptions.TrialPruned()\n",
    "\n",
    "        param = {\n",
    "            \"objective\": \"binary\",\n",
    "            \"metric\": 'binary_logloss',\n",
    "            \"verbosity\": -1,\n",
    "            \"boosting_type\": \"gbdt\",\n",
    "            \"lambda_l1\": trial.suggest_float(\"lambda_l1\", 1e-8, 10.0, log=True),\n",
    "            \"lambda_l2\": trial.suggest_float(\"lambda_l2\", 1e-8, 10.0, log=True),\n",
    "            \"num_leaves\": trial.suggest_int(\"num_leaves\", 2, 256),\n",
    "            \"feature_fraction\": trial.suggest_float(\"feature_fraction\", 0.4, 1.0),\n",
    "            \"bagging_fraction\": trial.suggest_float(\"bagging_fraction\", 0.4, 1.0),\n",
    "            \"bagging_freq\": trial.suggest_int(\"bagging_freq\", 1, 7),\n",
    "            \"min_child_samples\": trial.suggest_int(\"min_child_samples\", 5, 100),\n",
    "            \"is_unbalance\": True,    # Assumes unbalanced because that's usually the case\n",
    "            }\n",
    "\n",
    "        clf = LGBMClassifier()\n",
    "        clf.set_params(**param)\n",
    "        \n",
    "        try:\n",
    "\n",
    "            with warnings.catch_warnings():\n",
    "                warnings.simplefilter(\"ignore\")\n",
    "\n",
    "                scores = cross_val_score(clf, \n",
    "                                        X_train, \n",
    "                                        y_train.ravel(), \n",
    "                                        cv=RepeatedStratifiedKFold(n_splits=splits, n_repeats=5, random_state=3866),\n",
    "                                        n_jobs=-1,\n",
    "                                        scoring=\"f1\")\n",
    "\n",
    "            return np.median(scores).item()\n",
    "           \n",
    "        except Exception as e:\n",
    "            logger.exception(e)\n",
    "            \n",
    "        return np.nan\n",
    "\n",
    "    study = optuna.create_study(direction=\"maximize\", pruner=optuna.pruners.MedianPruner(n_warmup_steps=10))\n",
    "    study.optimize(objective, n_trials=n_trials, catch=(), callbacks=[StopWhenPerfectScoreReached()])\n",
    "\n",
    "    clf = LGBMClassifier()\n",
    "    param = copy.deepcopy(study.best_params)\n",
    "    del param[\"splits\"]\n",
    "    clf.set_params(**param)\n",
    "    clf.fit(X_train, y_train)\n",
    "\n",
    "    return clf, study.best_value"
   ]
  },
  {
   "cell_type": "code",
   "execution_count": 4,
   "id": "bf39f696-185a-4f7f-b347-cebe1b8eeea4",
   "metadata": {
    "tags": []
   },
   "outputs": [],
   "source": [
    "import pandas as pd\n",
    "\n",
    "#\n",
    "# Train\n",
    "#\n",
    "trainX = pd.read_csv(\"../../../../data/enrichment/IO-Atlas-NSCLC-TPM-TRAIN-2023-08-10-V4-hallmark-enrichment.tsv\",\n",
    "                         sep='\\t')\n",
    "\n",
    "trainX.index = [x.replace('.', '-') for x in trainX.index.values]\n",
    "\n",
    "trainY = pd.read_csv(\"../../../../data/expression/processed/train/V4/IO-Atlas-NSCLC-LABEL-TRAIN-2023-08-10-V4.tsv\",\n",
    "                    sep='\\t',\n",
    "                    index_col=0,\n",
    "                    header=None)\n",
    "\n",
    "trainX = trainX.reindex(trainY.index)\n",
    "\n",
    "#\n",
    "# Test\n",
    "#\n",
    "testX = pd.read_csv(\"../../../../data/enrichment/IO-Atlas-NSCLC-TPM-TEST-2023-08-10-V4-hallmark-enrichment.tsv\",\n",
    "                         sep='\\t')\n",
    "\n",
    "testX.index = [x.replace('.', '-') for x in testX.index.values]\n",
    "\n",
    "testY = pd.read_csv(\"../../../../data/expression/processed/test/V4/IO-Atlas-NSCLC-LABEL-TEST-2023-08-10-V4.tsv\",\n",
    "                    sep='\\t',\n",
    "                    index_col=0,\n",
    "                    header=None)\n",
    "\n",
    "testX = testX.reindex(testY.index)"
   ]
  },
  {
   "cell_type": "code",
   "execution_count": 5,
   "id": "9c47161d-1f83-4736-92b0-3a88a08cd522",
   "metadata": {
    "tags": []
   },
   "outputs": [],
   "source": [
    "elastic_net_model, elastic_net_model_best_value = get_elasticnet_model(trainX.values, trainY.values.ravel(), n_trials=500)"
   ]
  },
  {
   "cell_type": "code",
   "execution_count": 6,
   "id": "c855c477-1de3-4ac8-8e3c-349b73f0cbb6",
   "metadata": {
    "tags": []
   },
   "outputs": [
    {
     "data": {
      "text/plain": [
       "0.6666666666666666"
      ]
     },
     "execution_count": 6,
     "metadata": {},
     "output_type": "execute_result"
    }
   ],
   "source": [
    "# Elastic Net Best Value\n",
    "elastic_net_model_best_value"
   ]
  },
  {
   "cell_type": "code",
   "execution_count": 7,
   "id": "985f1afb-83cf-4ed0-8dab-76569b8b7790",
   "metadata": {
    "tags": []
   },
   "outputs": [],
   "source": [
    "rbf_svm_model, rbf_svm_model_best_value = get_svm_rbf_model(trainX.values, trainY.values.ravel(), n_trials=500)"
   ]
  },
  {
   "cell_type": "code",
   "execution_count": 8,
   "id": "7cf8ac67-a1c5-47f1-ae44-930fec8a7dbf",
   "metadata": {
    "tags": []
   },
   "outputs": [
    {
     "data": {
      "text/plain": [
       "0.6666666666666666"
      ]
     },
     "execution_count": 8,
     "metadata": {},
     "output_type": "execute_result"
    }
   ],
   "source": [
    "rbf_svm_model_best_value"
   ]
  },
  {
   "cell_type": "code",
   "execution_count": 9,
   "id": "f0566bf1-a6ab-4144-a112-2aedec24b3f0",
   "metadata": {
    "tags": []
   },
   "outputs": [
    {
     "data": {
      "text/plain": [
       "0.6363636363636364"
      ]
     },
     "execution_count": 9,
     "metadata": {},
     "output_type": "execute_result"
    }
   ],
   "source": [
    "rbf_svm_test_yhat = rbf_svm_model.predict(testX.values)\n",
    "f1_score(testY, rbf_svm_test_yhat)"
   ]
  },
  {
   "cell_type": "code",
   "execution_count": 10,
   "id": "368eb584-efb0-44a8-b34a-6384c5f46e68",
   "metadata": {
    "tags": []
   },
   "outputs": [],
   "source": [
    "import joblib\n",
    "with open(\"../../../../data/pickles/su2c-hallmark-rbf-svm-model.joblib\", \"wb\") as f:\n",
    "    joblib.dump(rbf_svm_model, f)"
   ]
  },
  {
   "cell_type": "code",
   "execution_count": 11,
   "id": "ce939e1b-1263-45f8-8c4b-564d02c57b19",
   "metadata": {
    "tags": []
   },
   "outputs": [],
   "source": [
    "linear_svm_model, linear_svm_model_best_value = get_svm_linear_model(trainX.values, trainY.values.ravel(), n_trials=500)"
   ]
  },
  {
   "cell_type": "code",
   "execution_count": 12,
   "id": "16b2eb2d-8bad-4029-8458-9d92e359f7f4",
   "metadata": {
    "tags": []
   },
   "outputs": [
    {
     "data": {
      "text/plain": [
       "0.6666666666666666"
      ]
     },
     "execution_count": 12,
     "metadata": {},
     "output_type": "execute_result"
    }
   ],
   "source": [
    "linear_svm_model_best_value"
   ]
  },
  {
   "cell_type": "code",
   "execution_count": 13,
   "id": "73a6d0a7-51e8-4206-bd59-9310dd343881",
   "metadata": {
    "tags": []
   },
   "outputs": [
    {
     "data": {
      "text/plain": [
       "0.6363636363636364"
      ]
     },
     "execution_count": 13,
     "metadata": {},
     "output_type": "execute_result"
    }
   ],
   "source": [
    "linear_svm_test_yhat = linear_svm_model.predict(testX.values)\n",
    "f1_score(testY, linear_svm_test_yhat)"
   ]
  },
  {
   "cell_type": "code",
   "execution_count": 14,
   "id": "20a4595e-8191-4d43-996d-f238bef189ae",
   "metadata": {
    "tags": []
   },
   "outputs": [
    {
     "data": {
      "image/png": "[encoded data removed]",
      "text/plain": [
       "<Figure size 1000x500 with 2 Axes>"
      ]
     },
     "metadata": {},
     "output_type": "display_data"
    }
   ],
   "source": [
    "from sklearn.metrics import RocCurveDisplay\n",
    "import matplotlib.pyplot as plt\n",
    "plt.rcParams.update({'font.size': 12})\n",
    "\n",
    "fig, axes = plt.subplots(1, 2, figsize=(10, 5))\n",
    "\n",
    "axes[0].plot(np.linspace(0, 1.0, 10), np.linspace(0.0, 1.0, 10), linestyle='--', color=\"gray\")\n",
    "axes[1].plot(np.linspace(0, 1.0, 10), np.linspace(0.0, 1.0, 10), linestyle='--', color=\"gray\")\n",
    "\n",
    "for name, model in [(\"ElasticNet\", elastic_net_model), (\"Linear SVM\", linear_svm_model), (\"RBF SVM\", rbf_svm_model)]:\n",
    "\n",
    "    RocCurveDisplay.from_estimator(model, \n",
    "                                   trainX.values, \n",
    "                                   trainY, \n",
    "                                   name=name,\n",
    "                                   ax=axes[0])\n",
    "\n",
    "    RocCurveDisplay.from_estimator(model, \n",
    "                                   testX.values, \n",
    "                                   testY, \n",
    "                                   name=name,\n",
    "                                   ax=axes[1])\n",
    "\n",
    "axes[0].set_title(\"ROC Curve for SU2C Lung Training Data\")\n",
    "axes[1].set_title(\"ROC Curve for SU2C Lung Testing Data\")\n",
    "\n",
    "plt.tight_layout()\n",
    "\n",
    "plt.savefig(\"../../../../figures/su2c/hallmark-enrichment-ml-prediction-roc-curve-plots.svg\", \n",
    "            format='svg', \n",
    "            bbox_inches='tight')"
   ]
  },
  {
   "cell_type": "code",
   "execution_count": null,
   "id": "f0e902c2-c7d0-4fab-9cf1-c9fc6360df56",
   "metadata": {},
   "outputs": [],
   "source": []
  }
 ],
 "metadata": {
  "kernelspec": {
   "display_name": "Python 3 (ipykernel)",
   "language": "python",
   "name": "python3"
  },
  "language_info": {
   "codemirror_mode": {
    "name": "ipython",
    "version": 3
   },
   "file_extension": ".py",
   "mimetype": "text/x-python",
   "name": "python",
   "nbconvert_exporter": "python",
   "pygments_lexer": "ipython3",
   "version": "3.10.11"
  }
 },
 "nbformat": 4,
 "nbformat_minor": 5
}
