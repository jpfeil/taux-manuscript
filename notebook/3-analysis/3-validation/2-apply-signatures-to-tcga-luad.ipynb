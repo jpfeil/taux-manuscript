{
 "cells": [
  {
   "cell_type": "code",
   "execution_count": 1,
   "id": "040fc2ba-e679-4ada-b1a9-a04642bbb60f",
   "metadata": {
    "tags": []
   },
   "outputs": [
    {
     "name": "stderr",
     "output_type": "stream",
     "text": [
      "── \u001b[1mAttaching core tidyverse packages\u001b[22m ──────────────────────── tidyverse 2.0.0 ──\n",
      "\u001b[32m✔\u001b[39m \u001b[34mdplyr    \u001b[39m 1.1.2     \u001b[32m✔\u001b[39m \u001b[34mreadr    \u001b[39m 2.1.4\n",
      "\u001b[32m✔\u001b[39m \u001b[34mforcats  \u001b[39m 1.0.0     \u001b[32m✔\u001b[39m \u001b[34mstringr  \u001b[39m 1.5.0\n",
      "\u001b[32m✔\u001b[39m \u001b[34mggplot2  \u001b[39m 3.4.3     \u001b[32m✔\u001b[39m \u001b[34mtibble   \u001b[39m 3.2.1\n",
      "\u001b[32m✔\u001b[39m \u001b[34mlubridate\u001b[39m 1.9.2     \u001b[32m✔\u001b[39m \u001b[34mtidyr    \u001b[39m 1.3.0\n",
      "\u001b[32m✔\u001b[39m \u001b[34mpurrr    \u001b[39m 1.0.2     \n",
      "── \u001b[1mConflicts\u001b[22m ────────────────────────────────────────── tidyverse_conflicts() ──\n",
      "\u001b[31m✖\u001b[39m \u001b[34mdplyr\u001b[39m::\u001b[32mfilter()\u001b[39m masks \u001b[34mstats\u001b[39m::filter()\n",
      "\u001b[31m✖\u001b[39m \u001b[34mdplyr\u001b[39m::\u001b[32mlag()\u001b[39m    masks \u001b[34mstats\u001b[39m::lag()\n",
      "\u001b[36mℹ\u001b[39m Use the conflicted package (\u001b[3m\u001b[34m<http://conflicted.r-lib.org/>\u001b[39m\u001b[23m) to force all conflicts to become errors\n"
     ]
    }
   ],
   "source": [
    "library(singscore)\n",
    "library(tidyverse)\n",
    "library(ggplot2)\n",
    "library(msigdbr)\n",
    "library(gprofiler2)"
   ]
  },
  {
   "cell_type": "code",
   "execution_count": 2,
   "id": "1e959ef0-bb4a-4f8a-8053-970f6ec8a18b",
   "metadata": {
    "tags": []
   },
   "outputs": [],
   "source": [
    "# Set random seed so this part is reproducible\n",
    "# https://www.random.org/ 2023-08-09\n",
    "set.seed(3866) "
   ]
  },
  {
   "cell_type": "code",
   "execution_count": 3,
   "id": "5ed55967-ee32-4acf-bda2-05e0d07e3f23",
   "metadata": {
    "tags": []
   },
   "outputs": [],
   "source": [
    "gs0 <- read.table(\"../../../data/gs/TCGA-LUAD-tuned-IO-Atlas-NSCLC-NSCLC-Response-Cluster-0-TPM-MinMaxNorm-TRAIN-2023-08-10-V4-gene-sets.tsv\",\n",
    "                 sep='\\t', \n",
    "                 header=T)\n",
    "\n",
    "gs1 <- read.table(\"../../../data/gs/TCGA-LUAD-tuned-IO-Atlas-NSCLC-NSCLC-Response-Cluster-1-TPM-MinMaxNorm-TRAIN-2023-08-10-V4-gene-sets.tsv\",\n",
    "                 sep='\\t', \n",
    "                 header=T)\n",
    "\n",
    "gs2 <- read.table(\"../../../data/gs/TCGA-LUAD-tuned-IO-Atlas-NSCLC-NSCLC-Response-Cluster-2-TPM-MinMaxNorm-TRAIN-2023-08-10-V4-gene-sets.tsv\",\n",
    "                 sep='\\t', \n",
    "                 header=T)\n",
    "\n",
    "gene_sets <- list(gs0, gs1, gs2)\n",
    "up_gene_set_db <- list()\n",
    "dwn_gene_set_db <- list()\n",
    "\n",
    "for (i in seq(3)) {\n",
    "    up_response_subtype_gs_db <- list()\n",
    "    dwn_response_subtype_gs_db <- list()\n",
    "    for (gene_set in unique(gene_sets[i][[1]]$gs))\n",
    "        {\n",
    "            \n",
    "            up_response_subtype_gs_db[[gene_set]] <- gene_sets[i][[1]] %>% filter((gs == gene_set) & (direction == \"up\")) %>%  pull(\"gene\") %>% unique()\n",
    "            dwn_response_subtype_gs_db[[gene_set]] <- gene_sets[i][[1]] %>% filter((gs == gene_set) & (direction == \"down\")) %>%  pull(\"gene\") %>% unique()\n",
    "        }\n",
    "    up_gene_set_db[[i]] <- up_response_subtype_gs_db\n",
    "    dwn_gene_set_db[[i]] <- dwn_response_subtype_gs_db\n",
    "}\n"
   ]
  },
  {
   "cell_type": "code",
   "execution_count": 4,
   "id": "97b10f08-96e8-4561-9012-dfb6093ede0c",
   "metadata": {
    "tags": []
   },
   "outputs": [],
   "source": [
    "minmax <- read.table(\"../../../data/expression/processed/TCGA-LUAD-MinMaxNorm-2023-08-28.tsv\", \n",
    "                          sep='\\t', \n",
    "                          row.names=1, \n",
    "                          header=T)\n",
    "\n",
    "rnk <- rankGenes(minmax)\n",
    "\n",
    "scores <- data.frame()\n",
    "\n",
    "for (i in seq(3))\n",
    "    {\n",
    "        \n",
    "        for (gs in names(up_gene_set_db[[i]]))\n",
    "            {\n",
    "                score <- simpleScore(rnk, \n",
    "                                     upSet = up_gene_set_db[[i]][[gs]],\n",
    "                                     downSet = dwn_gene_set_db[[i]][[gs]])\n",
    "            \n",
    "                score_name <- sprintf(\"Response Subtype Cluster %s %s\", i - 1, gs)\n",
    "            \n",
    "                scores[row.names(score), score_name] <- score$TotalScore\n",
    "            \n",
    "                score_name <- sprintf(\"Response Subtype Cluster %s %s Up\", i - 1, gs)\n",
    "            \n",
    "                scores[row.names(score), score_name] <- score$UpScore\n",
    "            \n",
    "                score_name <- sprintf(\"Response Subtype Cluster %s %s Down\", i - 1, gs)\n",
    "            \n",
    "                scores[row.names(score), score_name] <- score$DownScore\n",
    "                 \n",
    "            }\n",
    "    }\n",
    "\n",
    "write.table(scores, \n",
    "             \"../../../data/enrichment/TCGA-LUAD-MinMaxNorm-2023-08-28-response-subtype-clusters.tsv\",\n",
    "             sep='\\t')"
   ]
  },
  {
   "cell_type": "code",
   "execution_count": null,
   "id": "ac34dc53-4da9-4b38-b523-de461c0bb271",
   "metadata": {},
   "outputs": [],
   "source": []
  },
  {
   "cell_type": "code",
   "execution_count": null,
   "id": "0374534b-9bfb-4025-bb73-af23116f56cd",
   "metadata": {},
   "outputs": [],
   "source": []
  },
  {
   "cell_type": "code",
   "execution_count": null,
   "id": "cc5430f8-ad4d-41dc-9c74-c0446e44dc2f",
   "metadata": {},
   "outputs": [],
   "source": []
  }
 ],
 "metadata": {
  "kernelspec": {
   "display_name": "R",
   "language": "R",
   "name": "ir"
  },
  "language_info": {
   "codemirror_mode": "r",
   "file_extension": ".r",
   "mimetype": "text/x-r-source",
   "name": "R",
   "pygments_lexer": "r",
   "version": "4.2.3"
  }
 },
 "nbformat": 4,
 "nbformat_minor": 5
}
