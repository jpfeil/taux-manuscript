{
 "cells": [
  {
   "cell_type": "code",
   "execution_count": 1,
   "id": "3209c443-e1a6-4e24-a4e8-e07f82d20be5",
   "metadata": {
    "tags": []
   },
   "outputs": [],
   "source": [
    "import pandas as pd\n",
    "import optuna\n",
    "import numpy as np\n",
    "import warnings\n",
    "import logging\n",
    "import copy\n",
    "import timeout_decorator\n",
    "\n",
    "from lightgbm import LGBMClassifier\n",
    "from sklearn import linear_model\n",
    "from sklearn.svm import SVC\n",
    "\n",
    "from sklearn.utils._testing import ignore_warnings\n",
    "from sklearn.exceptions import ConvergenceWarning\n",
    "\n",
    "from sklearn.metrics import f1_score\n",
    "from sklearn.model_selection import cross_val_score, RepeatedStratifiedKFold\n",
    "\n",
    "\n",
    "logger = logging.getLogger()\n",
    "\n",
    "optuna.logging.set_verbosity(optuna.logging.WARNING)"
   ]
  },
  {
   "cell_type": "code",
   "execution_count": 2,
   "id": "1b25041a-d262-4777-8cc5-67b9c28ea5fe",
   "metadata": {
    "tags": []
   },
   "outputs": [],
   "source": [
    "# Set random seed so this part is reproducible\n",
    "# https://www.random.org/ 2023-08-09\n",
    "np.random.seed(3866)"
   ]
  },
  {
   "cell_type": "code",
   "execution_count": 3,
   "id": "069cd5e7-7bc4-48c9-9da0-96e0f508f98f",
   "metadata": {
    "tags": []
   },
   "outputs": [],
   "source": [
    "class StopWhenPerfectScoreReached:\n",
    "    def __call__(self, study: optuna.study.Study, trial: optuna.trial.FrozenTrial) -> None:\n",
    "        if trial.value == 1.0:\n",
    "            print(\"Stopping study because perfect score is reached\")\n",
    "            study.stop()\n",
    "            \n",
    "@ignore_warnings(category=ConvergenceWarning)\n",
    "def get_elasticnet_model(X_train: np.ndarray, y_train: np.ndarray, n_trials=100):\n",
    "\n",
    "    @timeout_decorator.timeout(30, timeout_exception=optuna.TrialPruned)\n",
    "    def objective(trial):\n",
    "    \n",
    "        splits = trial.suggest_categorical(\"splits\", [2, 3, 4, 5])\n",
    "        \n",
    "        penalty = trial.suggest_categorical(\"penalty\", [\"elasticnet\"])\n",
    "        \n",
    "        solver = trial.suggest_categorical(\"solver\", [\"saga\"])\n",
    "\n",
    "        l1_ratio = trial.suggest_float(\"l1_ratio\", 0.0, 1.0)\n",
    "        \n",
    "        logreg_c = trial.suggest_float(\"logreg_c\", 1e-4, 1e2, log=True)\n",
    "        \n",
    "        weight = trial.suggest_categorical(\"weight\", [None, \"balanced\"])\n",
    "\n",
    "        max_iter = trial.suggest_int(\"max_iter\", 1000, 10000, log=True)\n",
    "\n",
    "        clf = linear_model.LogisticRegression(\n",
    "                        C=logreg_c,\n",
    "                        penalty=penalty,\n",
    "                        solver=solver,\n",
    "                        random_state=3866, \n",
    "                        max_iter=max_iter,\n",
    "                        l1_ratio=l1_ratio,\n",
    "                        class_weight=weight,\n",
    "                        n_jobs=-1)\n",
    "\n",
    "        try:\n",
    "\n",
    "            with warnings.catch_warnings():\n",
    "                \n",
    "                warnings.filterwarnings(\"ignore\")\n",
    "\n",
    "                scores = cross_val_score(clf, \n",
    "                                        X_train, \n",
    "                                        y_train, \n",
    "                                        cv=RepeatedStratifiedKFold(n_splits=splits, n_repeats=5, random_state=3866),\n",
    "                                        n_jobs=-1,\n",
    "                                        scoring=\"f1\")\n",
    "\n",
    "                return np.median(scores).item()\n",
    "            \n",
    "        except Exception as e:\n",
    "            raise optuna.TrialPruned(e)\n",
    "\n",
    "    study = optuna.create_study(direction=\"maximize\", pruner=optuna.pruners.MedianPruner(n_warmup_steps=10))\n",
    "    study.optimize(objective, n_trials=n_trials, catch=(), callbacks=[StopWhenPerfectScoreReached()])\n",
    "\n",
    "    clf = linear_model.LogisticRegression(\n",
    "        C=study.best_params[\"logreg_c\"],\n",
    "        penalty=study.best_params[\"penalty\"],\n",
    "        solver=study.best_params[\"solver\"],\n",
    "        random_state=3866, \n",
    "        max_iter=study.best_params[\"max_iter\"], \n",
    "        l1_ratio=study.best_params[\"l1_ratio\"],\n",
    "        class_weight=study.best_params[\"weight\"],\n",
    "        n_jobs=-1)\n",
    "\n",
    "    with warnings.catch_warnings():\n",
    "        warnings.filterwarnings(\"ignore\")\n",
    "        clf.fit(X_train, y_train)\n",
    "\n",
    "    return clf, study.best_value\n",
    "\n",
    "@ignore_warnings(category=ConvergenceWarning)\n",
    "def get_svm_rbf_model(X_train, y_train, n_trials=500):\n",
    "    \n",
    "    @timeout_decorator.timeout(30, timeout_exception=optuna.TrialPruned)\n",
    "    def objective(trial) -> float:\n",
    "    \n",
    "        kernel = trial.suggest_categorical(\"kernel\",\n",
    "                                           [\"rbf\"])\n",
    "        \n",
    "        weight = trial.suggest_categorical(\"weight\",\n",
    "                                           [None, \"balanced\"])\n",
    "        \n",
    "        gamma = trial.suggest_float(\"gamma\", 1e-4, 1e4, log=True)\n",
    "        \n",
    "        logreg_c = trial.suggest_float(\"logreg_c\", 1e-4, 1e4, log=True)\n",
    "        \n",
    "        splits = trial.suggest_categorical(\"splits\", [2, 3, 4, 5])\n",
    "\n",
    "        clf = SVC(kernel=kernel, \n",
    "                  class_weight=weight, \n",
    "                  C=logreg_c,\n",
    "                  gamma=gamma,\n",
    "                  random_state=3866, \n",
    "                  max_iter=-1,\n",
    "                  probability=True)\n",
    "\n",
    "        try:\n",
    "            scores = cross_val_score(clf, \n",
    "                                     X_train, \n",
    "                                     y_train, \n",
    "                                     cv=RepeatedStratifiedKFold(n_splits=splits, n_repeats=5, random_state=3866),\n",
    "                                     n_jobs=-1,\n",
    "                                     scoring=\"f1\")\n",
    "                                     \n",
    "            return np.median(scores).item()\n",
    "            \n",
    "        except Exception as e:\n",
    "            logger.exception(e)\n",
    "        \n",
    "        return np.nan\n",
    "\n",
    "    study = optuna.create_study(direction=\"maximize\", \n",
    "                                pruner=optuna.pruners.MedianPruner(n_warmup_steps=10))\n",
    "\n",
    "    study.optimize(objective, n_trials=n_trials, catch=(), callbacks=[StopWhenPerfectScoreReached()])\n",
    "\n",
    "    clf = SVC(kernel=study.best_params[\"kernel\"], \n",
    "              class_weight=study.best_params[\"weight\"], \n",
    "              C=study.best_params[\"logreg_c\"], \n",
    "              gamma=study.best_params[\"gamma\"], \n",
    "              random_state=3866, \n",
    "              max_iter=-1,\n",
    "              probability=True)\n",
    "\n",
    "    clf.fit(X_train, y_train)\n",
    "\n",
    "    return clf, study.best_value\n",
    "\n",
    "@ignore_warnings(category=ConvergenceWarning)\n",
    "def get_svm_linear_model(X_train, y_train, n_trials=500):\n",
    "\n",
    "    @timeout_decorator.timeout(30, timeout_exception=optuna.TrialPruned) \n",
    "    def objective(trial) -> float:\n",
    "    \n",
    "        kernel = trial.suggest_categorical(\"kernel\",\n",
    "                                           [\"linear\"])\n",
    "        \n",
    "        weight = trial.suggest_categorical(\"weight\",\n",
    "                                           [None, \"balanced\"])\n",
    "        \n",
    "        gamma = trial.suggest_float(\"gamma\", 1e-4, 1e4, log=True)\n",
    "        \n",
    "        logreg_c = trial.suggest_float(\"logreg_c\", 1e-4, 1e4, log=True)\n",
    "        \n",
    "        splits = trial.suggest_categorical(\"splits\", [2, 3, 4, 5])\n",
    "\n",
    "        clf = SVC(kernel=kernel, \n",
    "                  class_weight=weight, \n",
    "                  C=logreg_c,\n",
    "                  gamma=gamma,\n",
    "                  random_state=3866, \n",
    "                  max_iter=-1)\n",
    "\n",
    "        try:\n",
    "            scores = cross_val_score(clf, \n",
    "                                     X_train, \n",
    "                                     y_train, \n",
    "                                     cv=RepeatedStratifiedKFold(n_splits=splits, n_repeats=5, random_state=3866),\n",
    "                                     n_jobs=-1,\n",
    "                                     scoring=\"f1\")\n",
    "\n",
    "            return np.median(scores).item()\n",
    "            \n",
    "        except Exception as e:\n",
    "            logger.exception(e)\n",
    "        \n",
    "        return np.nan\n",
    "\n",
    "    study = optuna.create_study(direction=\"maximize\", \n",
    "                                pruner=optuna.pruners.MedianPruner(n_warmup_steps=10))\n",
    "\n",
    "    study.optimize(objective, n_trials=n_trials, catch=(), callbacks=[StopWhenPerfectScoreReached()])\n",
    "\n",
    "    clf = SVC(kernel=study.best_params[\"kernel\"], \n",
    "              class_weight=study.best_params[\"weight\"], \n",
    "              C=study.best_params[\"logreg_c\"], \n",
    "              gamma=study.best_params[\"gamma\"], \n",
    "              random_state=3866, \n",
    "              max_iter=-1)\n",
    "\n",
    "    clf.fit(X_train, y_train)\n",
    "\n",
    "    return clf, study.best_value\n",
    "\n",
    "\n",
    "@ignore_warnings(category=ConvergenceWarning)\n",
    "def get_lightgbm_model(X_train, y_train, n_trials=500):\n",
    "    \"\"\"\n",
    "    Optimizes and returns a LightGBM classifier object\n",
    "\n",
    "    Args:\n",
    "        data (np.array): _description_\n",
    "        labels (np.array): _description_\n",
    "        n_trials (int, optional): Number of optimization trials. Defaults to 100.\n",
    "\n",
    "    Returns:\n",
    "        LGBMClassifier: Optimized instance of lightgbm classifier\n",
    "    \"\"\"\n",
    "\n",
    "    @timeout_decorator.timeout(30, timeout_exception=optuna.TrialPruned)\n",
    "    def objective(trial) -> float:\n",
    "    \n",
    "        splits = trial.suggest_categorical(\"splits\", [2, 3, 4, 5])\n",
    "\n",
    "        # Can't have more splits than positive cases\n",
    "        if splits >= len(y_train[y_train == 1]):\n",
    "            raise optuna.exceptions.TrialPruned()\n",
    "\n",
    "        param = {\n",
    "            \"objective\": \"binary\",\n",
    "            \"metric\": 'binary_logloss',\n",
    "            \"verbosity\": -1,\n",
    "            \"boosting_type\": \"gbdt\",\n",
    "            \"lambda_l1\": trial.suggest_float(\"lambda_l1\", 1e-8, 10.0, log=True),\n",
    "            \"lambda_l2\": trial.suggest_float(\"lambda_l2\", 1e-8, 10.0, log=True),\n",
    "            \"num_leaves\": trial.suggest_int(\"num_leaves\", 2, 256),\n",
    "            \"feature_fraction\": trial.suggest_float(\"feature_fraction\", 0.4, 1.0),\n",
    "            \"bagging_fraction\": trial.suggest_float(\"bagging_fraction\", 0.4, 1.0),\n",
    "            \"bagging_freq\": trial.suggest_int(\"bagging_freq\", 1, 7),\n",
    "            \"min_child_samples\": trial.suggest_int(\"min_child_samples\", 5, 100),\n",
    "            \"is_unbalance\": True,    # Assumes unbalanced because that's usually the case\n",
    "            }\n",
    "\n",
    "        clf = LGBMClassifier()\n",
    "        clf.set_params(**param)\n",
    "        \n",
    "        try:\n",
    "\n",
    "            with warnings.catch_warnings():\n",
    "                warnings.simplefilter(\"ignore\")\n",
    "\n",
    "                scores = cross_val_score(clf, \n",
    "                                        X_train, \n",
    "                                        y_train.ravel(), \n",
    "                                        cv=RepeatedStratifiedKFold(n_splits=splits, n_repeats=5, random_state=3866),\n",
    "                                        n_jobs=-1,\n",
    "                                        scoring=\"f1\")\n",
    "\n",
    "            return np.median(scores).item()\n",
    "           \n",
    "        except Exception as e:\n",
    "            logger.exception(e)\n",
    "            \n",
    "        return np.nan\n",
    "\n",
    "    study = optuna.create_study(direction=\"maximize\", pruner=optuna.pruners.MedianPruner(n_warmup_steps=10))\n",
    "    study.optimize(objective, n_trials=n_trials, catch=(), callbacks=[StopWhenPerfectScoreReached()])\n",
    "\n",
    "    clf = LGBMClassifier()\n",
    "    param = copy.deepcopy(study.best_params)\n",
    "    del param[\"splits\"]\n",
    "    clf.set_params(**param)\n",
    "    clf.fit(X_train, y_train)\n",
    "\n",
    "    return clf, study.best_value"
   ]
  },
  {
   "cell_type": "code",
   "execution_count": 4,
   "id": "07cbcf2f-34bc-4519-8f02-51569fb4ba55",
   "metadata": {
    "tags": []
   },
   "outputs": [],
   "source": [
    "def roll_genes(genes):\n",
    "    mgenes = np.empty((genes.shape[0], genes.shape[0]), dtype=object)\n",
    "    for i in range(genes.shape[0]):\n",
    "        for j, (g1, g2) in enumerate(zip(genes, np.roll(genes, i))):\n",
    "            mgenes[j, i] = f\"{g2}:{g1}\"\n",
    "    return mgenes\n",
    "    \n",
    "def divs(array):\n",
    "    matrix = np.zeros((array.shape[0], array.shape[0]))\n",
    "    for i in range(array.shape[0]):\n",
    "        matrix[:, i] = np.roll(array, i)\n",
    "    return matrix\n",
    "\n",
    "def col_div(col):\n",
    "    denominator = col\n",
    "    numerator = divs(denominator)\n",
    "    diffs = numerator / denominator[:, np.newaxis]\n",
    "    return diffs.flatten()\n",
    "\n",
    "def fast(mat):\n",
    "    \n",
    "    mgenes = roll_genes(np.arange(len(mat)))\n",
    "    \n",
    "    matrix = pd.DataFrame(index=mgenes.flatten(), \n",
    "                          columns=range(mat.shape[1]))\n",
    "    \n",
    "    for i in range(mat.shape[1]):\n",
    "        matrix.loc[:, i] = col_div(mat[i].values)\n",
    "            \n",
    "    return matrix\n",
    "\n",
    "\n",
    "def calculate_ratios(log2tpm1):\n",
    "    \n",
    "    from sklearn import preprocessing\n",
    "\n",
    "    tpm = (2**log2tpm1) - 1.0\n",
    "\n",
    "    scaler = preprocessing.MinMaxScaler(feature_range=(1, 100))\n",
    "    norm = pd.DataFrame(index=tpm.index, columns=log2tpm1.columns)\n",
    "\n",
    "    gene_bounds = pd.DataFrame(index=tpm.index, columns=['q1', 'q2', 'q3', 'upper_outlier', 'lower_outlier'])\n",
    "\n",
    "    for gene in norm.index.values:\n",
    "\n",
    "        try:\n",
    "\n",
    "            vec = tpm.loc[gene, :].values.reshape(-1, 1)\n",
    "            q1 = np.percentile(vec, 25)\n",
    "            q2 = np.percentile(vec, 50)\n",
    "            q3 = np.percentile(vec, 75)\n",
    "\n",
    "            upper_outlier = q3 + 1.5 * (q3 - q1)\n",
    "            lower_outlier = q1 - 1.5 * (q3 - q1)\n",
    "\n",
    "            gene_bounds.loc[gene, :] = [q1, q2, q3, upper_outlier, lower_outlier]\n",
    "\n",
    "            idx, _ = np.where(vec > upper_outlier)\n",
    "            vec[idx] = upper_outlier\n",
    "\n",
    "            idx, _ = np.where(vec < lower_outlier)\n",
    "            vec[idx] = lower_outlier\n",
    "\n",
    "            norm.loc[gene, :] = scaler.fit_transform(vec).flatten()\n",
    "\n",
    "        except Exception as e:\n",
    "            print(e)\n",
    "            \n",
    "    ratio = fast(pd.DataFrame(norm.values))\n",
    "    ratio = ratio.astype(np.float64)\n",
    "    ratio.columns = tpm.columns\n",
    "    return ratio, norm"
   ]
  },
  {
   "cell_type": "code",
   "execution_count": 16,
   "id": "6a49ed9c-4c2e-43c7-a600-78a283417454",
   "metadata": {
    "tags": []
   },
   "outputs": [
    {
     "data": {
      "text/html": [
       "<div>\n",
       "<style scoped>\n",
       "    .dataframe tbody tr th:only-of-type {\n",
       "        vertical-align: middle;\n",
       "    }\n",
       "\n",
       "    .dataframe tbody tr th {\n",
       "        vertical-align: top;\n",
       "    }\n",
       "\n",
       "    .dataframe thead th {\n",
       "        text-align: right;\n",
       "    }\n",
       "</style>\n",
       "<table border=\"1\" class=\"dataframe\">\n",
       "  <thead>\n",
       "    <tr style=\"text-align: right;\">\n",
       "      <th></th>\n",
       "      <th>TotalScore</th>\n",
       "    </tr>\n",
       "  </thead>\n",
       "  <tbody>\n",
       "    <tr>\n",
       "      <th>nonresponders172</th>\n",
       "      <td>-0.049153</td>\n",
       "    </tr>\n",
       "    <tr>\n",
       "      <th>nonresponders176</th>\n",
       "      <td>-0.013884</td>\n",
       "    </tr>\n",
       "    <tr>\n",
       "      <th>nonresponders82</th>\n",
       "      <td>-0.101917</td>\n",
       "    </tr>\n",
       "    <tr>\n",
       "      <th>nonresponders33</th>\n",
       "      <td>-0.229504</td>\n",
       "    </tr>\n",
       "    <tr>\n",
       "      <th>nonresponders8</th>\n",
       "      <td>-0.098694</td>\n",
       "    </tr>\n",
       "    <tr>\n",
       "      <th>...</th>\n",
       "      <td>...</td>\n",
       "    </tr>\n",
       "    <tr>\n",
       "      <th>nonresponders93</th>\n",
       "      <td>0.054370</td>\n",
       "    </tr>\n",
       "    <tr>\n",
       "      <th>responders198</th>\n",
       "      <td>0.053117</td>\n",
       "    </tr>\n",
       "    <tr>\n",
       "      <th>nonresponders31</th>\n",
       "      <td>-0.078579</td>\n",
       "    </tr>\n",
       "    <tr>\n",
       "      <th>nonresponders4</th>\n",
       "      <td>0.120707</td>\n",
       "    </tr>\n",
       "    <tr>\n",
       "      <th>nonresponders106</th>\n",
       "      <td>-0.136540</td>\n",
       "    </tr>\n",
       "  </tbody>\n",
       "</table>\n",
       "<p>200 rows × 1 columns</p>\n",
       "</div>"
      ],
      "text/plain": [
       "                  TotalScore\n",
       "nonresponders172   -0.049153\n",
       "nonresponders176   -0.013884\n",
       "nonresponders82    -0.101917\n",
       "nonresponders33    -0.229504\n",
       "nonresponders8     -0.098694\n",
       "...                      ...\n",
       "nonresponders93     0.054370\n",
       "responders198       0.053117\n",
       "nonresponders31    -0.078579\n",
       "nonresponders4      0.120707\n",
       "nonresponders106   -0.136540\n",
       "\n",
       "[200 rows x 1 columns]"
      ]
     },
     "execution_count": 16,
     "metadata": {},
     "output_type": "execute_result"
    }
   ],
   "source": [
    "pd.DataFrame(trainX)"
   ]
  },
  {
   "cell_type": "code",
   "execution_count": 21,
   "id": "f084e34c-1218-493e-95d0-127e48fb762d",
   "metadata": {
    "tags": []
   },
   "outputs": [],
   "source": [
    "#\n",
    "# Train\n",
    "#\n",
    "trainX = pd.read_csv(\"../../../data/enrichment/synthetic-train-minmax-eff-0.5-ndiff-10-frac-0.1-2023-08-14-ratio-gene-set.tsv\",\n",
    "                     sep='\\t', \n",
    "                     index_col=0)\n",
    "\n",
    "trainX = pd.DataFrame(trainX[\"TotalScore\"]).T\n",
    "\n",
    "trainX = trainX.sample(frac=1.0, axis=1)\n",
    "\n",
    "trainY = np.array([0 if x.startswith(\"nonresponders\") else 1 for x in trainX.columns])\n",
    "\n",
    "\n",
    "#\n",
    "# Test\n",
    "#\n",
    "testX = pd.read_csv(\"../../../data/enrichment/synthetic-test-minmax-eff-0.5-ndiff-10-frac-0.1-2023-08-14-ratio-gene-set.tsv\",\n",
    "                    sep='\\t', \n",
    "                    index_col=0)\n",
    "\n",
    "testX = pd.DataFrame(testX[\"TotalScore\"]).T\n",
    "\n",
    "testX = testX.sample(frac=1.0, axis=1)\n",
    "\n",
    "testY = np.array([0 if x.startswith(\"nonresponders\") else 1 for x in testX.columns])"
   ]
  },
  {
   "cell_type": "markdown",
   "id": "3fced942-c74a-4270-904d-a4766956029d",
   "metadata": {},
   "source": [
    "# Elastic Net"
   ]
  },
  {
   "cell_type": "code",
   "execution_count": 22,
   "id": "6d09cd67-92fa-4229-b57d-09ffedabcf57",
   "metadata": {
    "tags": []
   },
   "outputs": [],
   "source": [
    "# Elastic Net\n",
    "elastic_net_model, elastic_net_model_best_value = get_elasticnet_model(trainX.values.T, trainY, n_trials=100)"
   ]
  },
  {
   "cell_type": "code",
   "execution_count": 23,
   "id": "282ff120-d097-48e3-8255-d1e4cb93859f",
   "metadata": {
    "tags": []
   },
   "outputs": [
    {
     "data": {
      "text/plain": [
       "0.7493734335839599"
      ]
     },
     "execution_count": 23,
     "metadata": {},
     "output_type": "execute_result"
    }
   ],
   "source": [
    "# Elastic Net Best Value\n",
    "elastic_net_model_best_value"
   ]
  },
  {
   "cell_type": "code",
   "execution_count": 24,
   "id": "ed0f7bf9-ad2c-43c3-b778-02cee7652e1c",
   "metadata": {
    "tags": []
   },
   "outputs": [
    {
     "data": {
      "text/plain": [
       "0.509090909090909"
      ]
     },
     "execution_count": 24,
     "metadata": {},
     "output_type": "execute_result"
    }
   ],
   "source": [
    "# Elastic Net Of of Sample Prediction\n",
    "elastic_net_test_yhat = elastic_net_model.predict(testX.values.T)\n",
    "f1_score(testY, elastic_net_test_yhat)"
   ]
  },
  {
   "cell_type": "markdown",
   "id": "e19272d7-7255-4eb1-a2e0-5a81de56b5d0",
   "metadata": {},
   "source": [
    "# RBF SVM"
   ]
  },
  {
   "cell_type": "code",
   "execution_count": 25,
   "id": "b7b0adc0-dd90-4f1e-b9da-baf470decfc3",
   "metadata": {},
   "outputs": [],
   "source": [
    "rbf_svm_model, rbf_svm_model_best_value = get_svm_rbf_model(trainX.values.T, trainY, n_trials=100)"
   ]
  },
  {
   "cell_type": "code",
   "execution_count": 26,
   "id": "0b91d7f8-68e7-4b5b-a9a0-9efab557af50",
   "metadata": {},
   "outputs": [
    {
     "data": {
      "text/plain": [
       "0.8333333333333333"
      ]
     },
     "execution_count": 26,
     "metadata": {},
     "output_type": "execute_result"
    }
   ],
   "source": [
    "rbf_svm_model_best_value"
   ]
  },
  {
   "cell_type": "code",
   "execution_count": 27,
   "id": "3d72f1a0-3c8e-49c7-9598-d1f71b5bc8a8",
   "metadata": {},
   "outputs": [
    {
     "data": {
      "text/plain": [
       "0.6206896551724138"
      ]
     },
     "execution_count": 27,
     "metadata": {},
     "output_type": "execute_result"
    }
   ],
   "source": [
    "rbf_svm_test_yhat = rbf_svm_model.predict(testX.values.T)\n",
    "f1_score(testY, rbf_svm_test_yhat)"
   ]
  },
  {
   "cell_type": "markdown",
   "id": "185a9e42-bbb4-41f7-81c9-f57cb1e75172",
   "metadata": {},
   "source": [
    "# Linear SVM"
   ]
  },
  {
   "cell_type": "code",
   "execution_count": 28,
   "id": "8024538c-cf54-4a73-841c-d8fa88a708cc",
   "metadata": {},
   "outputs": [],
   "source": [
    "linear_svm_model, linear_svm_model_best_value = get_svm_linear_model(trainX.values.T, trainY, n_trials=100)"
   ]
  },
  {
   "cell_type": "code",
   "execution_count": 29,
   "id": "8ed53983-be2c-4900-acc8-f85f149a00bf",
   "metadata": {},
   "outputs": [
    {
     "data": {
      "text/plain": [
       "0.8571428571428571"
      ]
     },
     "execution_count": 29,
     "metadata": {},
     "output_type": "execute_result"
    }
   ],
   "source": [
    "linear_svm_model_best_value"
   ]
  },
  {
   "cell_type": "code",
   "execution_count": 30,
   "id": "c0a8500a-5901-4e52-b013-e760cb6e8822",
   "metadata": {
    "tags": []
   },
   "outputs": [
    {
     "data": {
      "text/plain": [
       "0.7096774193548387"
      ]
     },
     "execution_count": 30,
     "metadata": {},
     "output_type": "execute_result"
    }
   ],
   "source": [
    "linear_svm_test_yhat = linear_svm_model.predict(testX.values.T)\n",
    "f1_score(testY, linear_svm_test_yhat)"
   ]
  },
  {
   "cell_type": "code",
   "execution_count": 32,
   "id": "cd12a0c0-ec31-4303-a81f-f790b45c5151",
   "metadata": {
    "tags": []
   },
   "outputs": [
    {
     "data": {
      "text/html": [
       "<div>\n",
       "<style scoped>\n",
       "    .dataframe tbody tr th:only-of-type {\n",
       "        vertical-align: middle;\n",
       "    }\n",
       "\n",
       "    .dataframe tbody tr th {\n",
       "        vertical-align: top;\n",
       "    }\n",
       "\n",
       "    .dataframe thead th {\n",
       "        text-align: right;\n",
       "    }\n",
       "</style>\n",
       "<table border=\"1\" class=\"dataframe\">\n",
       "  <thead>\n",
       "    <tr style=\"text-align: right;\">\n",
       "      <th></th>\n",
       "      <th>nonresponders153</th>\n",
       "      <th>nonresponders67</th>\n",
       "      <th>nonresponders164</th>\n",
       "      <th>nonresponders130</th>\n",
       "      <th>nonresponders133</th>\n",
       "      <th>nonresponders38</th>\n",
       "      <th>responders190</th>\n",
       "      <th>nonresponders154</th>\n",
       "      <th>nonresponders179</th>\n",
       "      <th>nonresponders39</th>\n",
       "      <th>...</th>\n",
       "      <th>nonresponders116</th>\n",
       "      <th>nonresponders50</th>\n",
       "      <th>nonresponders73</th>\n",
       "      <th>nonresponders173</th>\n",
       "      <th>nonresponders172</th>\n",
       "      <th>nonresponders17</th>\n",
       "      <th>nonresponders147</th>\n",
       "      <th>nonresponders141</th>\n",
       "      <th>nonresponders102</th>\n",
       "      <th>nonresponders26</th>\n",
       "    </tr>\n",
       "  </thead>\n",
       "  <tbody>\n",
       "    <tr>\n",
       "      <th>TotalScore</th>\n",
       "      <td>-0.031402</td>\n",
       "      <td>-0.059259</td>\n",
       "      <td>0.018832</td>\n",
       "      <td>-0.120708</td>\n",
       "      <td>-0.122042</td>\n",
       "      <td>-0.295675</td>\n",
       "      <td>0.198025</td>\n",
       "      <td>-0.088225</td>\n",
       "      <td>0.062013</td>\n",
       "      <td>-0.002232</td>\n",
       "      <td>...</td>\n",
       "      <td>-0.039458</td>\n",
       "      <td>-0.108542</td>\n",
       "      <td>-0.040009</td>\n",
       "      <td>-0.175891</td>\n",
       "      <td>-0.049153</td>\n",
       "      <td>0.016765</td>\n",
       "      <td>-0.026883</td>\n",
       "      <td>-0.021206</td>\n",
       "      <td>-0.086513</td>\n",
       "      <td>-0.170936</td>\n",
       "    </tr>\n",
       "  </tbody>\n",
       "</table>\n",
       "<p>1 rows × 200 columns</p>\n",
       "</div>"
      ],
      "text/plain": [
       "            nonresponders153  nonresponders67  nonresponders164   \n",
       "TotalScore         -0.031402        -0.059259          0.018832  \\\n",
       "\n",
       "            nonresponders130  nonresponders133  nonresponders38   \n",
       "TotalScore         -0.120708         -0.122042        -0.295675  \\\n",
       "\n",
       "            responders190  nonresponders154  nonresponders179   \n",
       "TotalScore       0.198025         -0.088225          0.062013  \\\n",
       "\n",
       "            nonresponders39  ...  nonresponders116  nonresponders50   \n",
       "TotalScore        -0.002232  ...         -0.039458        -0.108542  \\\n",
       "\n",
       "            nonresponders73  nonresponders173  nonresponders172   \n",
       "TotalScore        -0.040009         -0.175891         -0.049153  \\\n",
       "\n",
       "            nonresponders17  nonresponders147  nonresponders141   \n",
       "TotalScore         0.016765         -0.026883         -0.021206  \\\n",
       "\n",
       "            nonresponders102  nonresponders26  \n",
       "TotalScore         -0.086513        -0.170936  \n",
       "\n",
       "[1 rows x 200 columns]"
      ]
     },
     "execution_count": 32,
     "metadata": {},
     "output_type": "execute_result"
    }
   ],
   "source": [
    "trainX"
   ]
  },
  {
   "cell_type": "code",
   "execution_count": 41,
   "id": "31972e3f-1837-4c01-ad0b-beea21643c30",
   "metadata": {},
   "outputs": [
    {
     "data": {
      "image/png": "[encoded data removed]",
      "text/plain": [
       "<Figure size 640x480 with 1 Axes>"
      ]
     },
     "metadata": {},
     "output_type": "display_data"
    }
   ],
   "source": [
    "import matplotlib.pyplot as plt\n",
    "\n",
    "from sklearn.metrics import RocCurveDisplay\n",
    "\n",
    "RocCurveDisplay.from_predictions(\n",
    "    trainY,\n",
    "    trainX.loc[\"TotalScore\"],\n",
    "    color=\"darkorange\",\n",
    ")\n",
    "\n",
    "plt.plot(np.linspace(0, 1.0, 10), np.linspace(0.0, 1.0, 10), linestyle='--', color=\"gray\")\n",
    "\n",
    "plt.axis(\"square\")\n",
    "plt.xlabel(\"False Positive Rate\")\n",
    "plt.ylabel(\"True Positive Rate\")\n",
    "plt.legend()\n",
    "plt.show()"
   ]
  },
  {
   "cell_type": "code",
   "execution_count": 43,
   "id": "fd93666a-3f17-42be-b4d9-15f9ca82f479",
   "metadata": {
    "tags": []
   },
   "outputs": [
    {
     "data": {
      "image/png": "[encoded data removed]",
      "text/plain": [
       "<Figure size 640x480 with 1 Axes>"
      ]
     },
     "metadata": {},
     "output_type": "display_data"
    }
   ],
   "source": [
    "import matplotlib.pyplot as plt\n",
    "\n",
    "from sklearn.metrics import RocCurveDisplay\n",
    "\n",
    "RocCurveDisplay.from_predictions(\n",
    "    testY,\n",
    "    testX.loc[\"TotalScore\"],\n",
    "    color=\"cornflowerblue\",\n",
    ")\n",
    "\n",
    "plt.plot(np.linspace(0, 1.0, 10), np.linspace(0.0, 1.0, 10), linestyle='--', color=\"gray\")\n",
    "\n",
    "plt.axis(\"square\")\n",
    "plt.xlabel(\"False Positive Rate\")\n",
    "plt.ylabel(\"True Positive Rate\")\n",
    "plt.legend()\n",
    "plt.show()"
   ]
  },
  {
   "cell_type": "code",
   "execution_count": null,
   "id": "24c8eaa5-fe22-4355-b77a-225b27b46946",
   "metadata": {},
   "outputs": [],
   "source": []
  }
 ],
 "metadata": {
  "kernelspec": {
   "display_name": "Python 3 (ipykernel)",
   "language": "python",
   "name": "python3"
  },
  "language_info": {
   "codemirror_mode": {
    "name": "ipython",
    "version": 3
   },
   "file_extension": ".py",
   "mimetype": "text/x-python",
   "name": "python",
   "nbconvert_exporter": "python",
   "pygments_lexer": "ipython3",
   "version": "3.10.11"
  }
 },
 "nbformat": 4,
 "nbformat_minor": 5
}
