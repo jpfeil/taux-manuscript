{
 "cells": [
  {
   "cell_type": "code",
   "execution_count": 6,
   "id": "3209c443-e1a6-4e24-a4e8-e07f82d20be5",
   "metadata": {
    "tags": []
   },
   "outputs": [],
   "source": [
    "import pandas as pd\n",
    "import optuna\n",
    "import numpy as np\n",
    "import logging\n",
    "import copy\n",
    "import os\n",
    "import timeout_decorator\n",
    "\n",
    "from IPython.display import display\n",
    "\n",
    "import matplotlib.pyplot as plt\n",
    "\n",
    "from sklearn.metrics import RocCurveDisplay\n",
    "\n",
    "from lightgbm import LGBMClassifier\n",
    "\n",
    "from scipy.stats import ttest_ind\n",
    "\n",
    "from sklearn import linear_model\n",
    "from sklearn.svm import SVC\n",
    "\n",
    "from sklearn.utils._testing import ignore_warnings\n",
    "from sklearn.exceptions import ConvergenceWarning\n",
    "\n",
    "from sklearn.metrics import f1_score, roc_auc_score\n",
    "from sklearn.model_selection import cross_val_score, RepeatedStratifiedKFold\n",
    "\n",
    "from sklearn.preprocessing import StandardScaler\n",
    "\n",
    "from pathlib import Path\n",
    "\n",
    "Path(os.getcwd()).parents[2]\n",
    "\n",
    "import sys\n",
    "\n",
    "sys.path.append(Path(os.getcwd()).parents[2].as_posix())\n",
    "\n",
    "from lib.validation import get_elasticnet_model, get_svm_linear_model, get_svm_rbf_model\n",
    "\n",
    "logger = logging.getLogger()\n",
    "\n",
    "optuna.logging.set_verbosity(optuna.logging.ERROR)\n",
    "\n",
    "os.environ[\"PYTHONWARNINGS\"] = \"ignore::UserWarning\""
   ]
  },
  {
   "cell_type": "code",
   "execution_count": 7,
   "id": "1b25041a-d262-4777-8cc5-67b9c28ea5fe",
   "metadata": {
    "tags": []
   },
   "outputs": [],
   "source": [
    "# Set random seed so this part is reproducible\n",
    "# https://www.random.org/ 2023-08-09\n",
    "np.random.seed(3866)"
   ]
  },
  {
   "cell_type": "code",
   "execution_count": 8,
   "id": "07cbcf2f-34bc-4519-8f02-51569fb4ba55",
   "metadata": {
    "tags": []
   },
   "outputs": [],
   "source": [
    "def roll_genes(genes):\n",
    "    mgenes = np.empty((genes.shape[0], genes.shape[0]), dtype=object)\n",
    "    for i in range(genes.shape[0]):\n",
    "        for j, (g1, g2) in enumerate(zip(genes, np.roll(genes, i))):\n",
    "            mgenes[j, i] = f\"{g2}:{g1}\"\n",
    "    return mgenes\n",
    "    \n",
    "def divs(array):\n",
    "    matrix = np.zeros((array.shape[0], array.shape[0]))\n",
    "    for i in range(array.shape[0]):\n",
    "        matrix[:, i] = np.roll(array, i)\n",
    "    return matrix\n",
    "\n",
    "def col_div(col):\n",
    "    denominator = col\n",
    "    numerator = divs(denominator)\n",
    "    diffs = numerator / denominator[:, np.newaxis]\n",
    "    return diffs.flatten()\n",
    "\n",
    "def fast(mat):\n",
    "    \n",
    "    mgenes = roll_genes(np.arange(len(mat)))\n",
    "    \n",
    "    matrix = pd.DataFrame(index=mgenes.flatten(), \n",
    "                          columns=range(mat.shape[1]))\n",
    "    \n",
    "    for i in range(mat.shape[1]):\n",
    "        matrix.loc[:, i] = col_div(mat[i].values)\n",
    "            \n",
    "    return matrix\n",
    "\n",
    "\n",
    "def calculate_ratios(log2tpm1):\n",
    "    \n",
    "    from sklearn import preprocessing\n",
    "\n",
    "    tpm = (2**log2tpm1) - 1.0\n",
    "\n",
    "    scaler = preprocessing.MinMaxScaler(feature_range=(1, 100))\n",
    "    norm = pd.DataFrame(index=tpm.index, columns=log2tpm1.columns)\n",
    "\n",
    "    gene_bounds = pd.DataFrame(index=tpm.index, columns=['q1', 'q2', 'q3', 'upper_outlier', 'lower_outlier'])\n",
    "\n",
    "    for gene in norm.index.values:\n",
    "\n",
    "        try:\n",
    "\n",
    "            vec = tpm.loc[gene, :].values.reshape(-1, 1)\n",
    "            q1 = np.percentile(vec, 25)\n",
    "            q2 = np.percentile(vec, 50)\n",
    "            q3 = np.percentile(vec, 75)\n",
    "\n",
    "            upper_outlier = q3 + 1.5 * (q3 - q1)\n",
    "            lower_outlier = q1 - 1.5 * (q3 - q1)\n",
    "\n",
    "            gene_bounds.loc[gene, :] = [q1, q2, q3, upper_outlier, lower_outlier]\n",
    "\n",
    "            idx, _ = np.where(vec > upper_outlier)\n",
    "            vec[idx] = upper_outlier\n",
    "\n",
    "            idx, _ = np.where(vec < lower_outlier)\n",
    "            vec[idx] = lower_outlier\n",
    "\n",
    "            norm.loc[gene, :] = scaler.fit_transform(vec).flatten()\n",
    "\n",
    "        except Exception as e:\n",
    "            print(e)\n",
    "            \n",
    "    ratio = fast(pd.DataFrame(norm.values))\n",
    "    ratio = ratio.astype(np.float64)\n",
    "    ratio.columns = tpm.columns\n",
    "    return ratio, norm"
   ]
  },
  {
   "cell_type": "code",
   "execution_count": 9,
   "id": "35ead91e-436d-41f2-9b12-15bd41c8efd5",
   "metadata": {
    "tags": []
   },
   "outputs": [],
   "source": [
    "def run_analysis(e, n, f, c):\n",
    "    #\n",
    "    # Train\n",
    "    #\n",
    "    train_minmax_path = f\"../../../data/test/test_input/2024-01-09/synthetic-train-minmax-eff-{e}-ndiff-{n}-frac-{f}-corr-{c}-2024-01-09.tsv\"\n",
    "    \n",
    "    assert os.path.exists(train_minmax_path)\n",
    "    \n",
    "    train_minmax = pd.read_csv(train_minmax_path,\n",
    "                     sep='\\t', \n",
    "                     index_col=0)\n",
    "\n",
    "    train_minmax = train_minmax.sample(frac=1.0, axis=1)\n",
    "    \n",
    "    ratio_path = f\"../../../data/test/test_input/2024-01-09/synthetic-train-minmax-ratios-eff-{e}-ndiff-{n}-frac-{f}-corr-{c}-splits-1-2024-01-09.tsv\"\n",
    "    \n",
    "    assert os.path.exists(ratio_path)\n",
    "    \n",
    "    trainR = pd.read_csv(ratio_path,\n",
    "                         sep='\\t', \n",
    "                         header=None,\n",
    "                         comment=\"#\")\n",
    "    \n",
    "    trainR.columns = [\"numerator\", \"denominator\", \"score\"]\n",
    "    \n",
    "    trainR[\"ratio\"] = trainR[\"numerator\"] + \":::\" + trainR[\"denominator\"]\n",
    "    \n",
    "    top_ratios = trainR.sort_values(\"score\", ascending=False).head(500)\n",
    "    \n",
    "    trainX = pd.DataFrame(index=top_ratios[\"ratio\"], columns=train_minmax.columns, dtype=np.float64)\n",
    "    \n",
    "    for i, row in top_ratios.iterrows():\n",
    "        trainX.loc[row.ratio] = train_minmax.loc[row[\"numerator\"], :] / train_minmax.loc[row[\"denominator\"], :]\n",
    "        \n",
    "    trainY = np.array([0 if x.startswith(\"nonresponders\") else 1 for x in trainX.columns])\n",
    "    \n",
    "    #\n",
    "    # Test\n",
    "    #\n",
    "    test_minmax_path = f\"../../../data/test/test_input/2024-01-09/synthetic-test-minmax-eff-{e}-ndiff-{n}-frac-{f}-corr-{c}-2024-01-09.tsv\"\n",
    "    \n",
    "    assert os.path.exists(test_minmax_path)\n",
    "    \n",
    "    test_minmax = pd.read_csv(test_minmax_path,\n",
    "                        sep='\\t', \n",
    "                        index_col=0)\n",
    "\n",
    "    test_minmax = test_minmax.sample(frac=1.0, axis=1)\n",
    "    \n",
    "    testX = pd.DataFrame(index=top_ratios[\"ratio\"], columns=test_minmax.columns, dtype=np.float64)\n",
    "    \n",
    "    for i, row in top_ratios.iterrows():\n",
    "        testX.loc[row.ratio] = test_minmax.loc[row[\"numerator\"], :] / test_minmax.loc[row[\"denominator\"], :]\n",
    "        \n",
    "    testY = np.array([0 if x.startswith(\"nonresponders\") else 1 for x in testX.columns])\n",
    "    \n",
    "    # Elastic Net\n",
    "    elastic_net_model, elastic_net_model_best_value, elastic_net_model_params = get_elasticnet_model(trainX.values.T, trainY, n_trials=100)\n",
    "    \n",
    "    # RBF SVM Model\n",
    "    rbf_svm_model, rbf_svm_model_best_value, rbf_svm_params = get_svm_rbf_model(trainX.values.T, trainY, n_trials=100)\n",
    "    \n",
    "    # Linear SVM Model \n",
    "    linear_svm_model, linear_svm_model_best_value, linear_svm_params = get_svm_linear_model(trainX.values.T, trainY, n_trials=100)\n",
    "    \n",
    "    #\n",
    "    # ROC\n",
    "    #\n",
    "    fig, axes = plt.subplots(1, 2, figsize=(10, 5))\n",
    "\n",
    "    axes[0].plot(np.linspace(0, 1.0, 10), np.linspace(0.0, 1.0, 10), linestyle='--', color=\"gray\")\n",
    "    axes[1].plot(np.linspace(0, 1.0, 10), np.linspace(0.0, 1.0, 10), linestyle='--', color=\"gray\")\n",
    "\n",
    "    \n",
    "    stats = []\n",
    "    \n",
    "    for name, model, params in [(\"ElasticNet\", elastic_net_model, elastic_net_model_params), (\"Linear SVM\", linear_svm_model, linear_svm_params), (\"RBF SVM\", rbf_svm_model, rbf_svm_params)]:\n",
    "        \n",
    "        X_train = trainX.values.T\n",
    "        features = params[\"features\"]\n",
    "        _X_train = X_train[:, :features]\n",
    "        np.take(_X_train, np.random.rand(_X_train.shape[1]).argsort(), axis=1, out=_X_train)\n",
    "\n",
    "        RocCurveDisplay.from_estimator(model, \n",
    "                                       _X_train, \n",
    "                                       trainY, \n",
    "                                       name=name,\n",
    "                                       ax=axes[0])\n",
    "        \n",
    "        train_auc = roc_auc_score(trainY, model.predict_proba(_X_train)[:, 1])\n",
    "        stats.append((name, \"train\", e, n, f, c, train_auc, train_minmax_path))\n",
    "\n",
    "        X_test = testX.values.T\n",
    "        features = params[\"features\"]\n",
    "        _X_test = X_test[:, :features]\n",
    "        np.take(_X_test, np.random.rand(_X_test.shape[1]).argsort(), axis=1, out=_X_test)\n",
    "\n",
    "        RocCurveDisplay.from_estimator(model, \n",
    "                                       _X_test, \n",
    "                                       testY, \n",
    "                                       name=name,\n",
    "                                       ax=axes[1])\n",
    "                                  \n",
    "        test_auc = roc_auc_score(testY, model.predict_proba(_X_test)[:, 1])\n",
    "        stats.append((name, \"test\", e, n, f, c, test_auc, test_minmax_path))\n",
    "        \n",
    "    axes[0].set_title(f\"ROC Curve for Synthetic Training Data\\nES: {e} DEGs: {n} Response%: {f} Corr Thresh: {c}\")\n",
    "    axes[1].set_title(f\"ROC Curve for Synthetic Testing Data\\nES: {e} DEGs: {n} Response%: {f} Corr Thresh: {c}\")\n",
    "\n",
    "    plt.tight_layout()\n",
    "\n",
    "    plt.savefig(f\"../../../figures/synthetic/synthetic-top-ratios-prediction-roc-curve-plots-eff-{e}-ndiff-{n}-frac-{f}-corr-{c}.svg\", \n",
    "                format='svg', \n",
    "                bbox_inches='tight')\n",
    "    \n",
    "    return pd.DataFrame(stats, \n",
    "                        columns=[\"model\", \"dataset\", \"effect\", \"ndeg\", \"subtype_frac\", \"corr_thresh\", \"AUC\", \"path\"])"
   ]
  },
  {
   "cell_type": "code",
   "execution_count": 10,
   "id": "3fb2a020-dcda-4ea4-bacc-b8a3e4b29e7e",
   "metadata": {
    "tags": []
   },
   "outputs": [],
   "source": [
    "# Generate ratios for validation\n",
    "\n",
    "ratios = ['77:899',\n",
    "          '303:917',\n",
    "          '334:917',\n",
    "          '82:215',\n",
    "          '77:314',\n",
    "          '148:917',\n",
    "          '113:191',\n",
    "          '23:314',\n",
    "          '35:314',\n",
    "          '103:248']\n",
    "\n",
    "\n",
    "tmp = pd.read_csv(\"../../../data/test/test_input/2023-08-14/synthetic-train-eff-0.5-ndiff-10-frac-0.1-2023-08-14.tsv\",\n",
    "                     sep='\\t', \n",
    "                     index_col=0)\n",
    "\n",
    "numerators = []\n",
    "denominators = []\n",
    "for r in ratios:\n",
    "    n, d = r.split(\":\")\n",
    "    \n",
    "    ng = tmp.index.values[int(n)]\n",
    "    if ng not in numerators:\n",
    "        numerators.append(ng)\n",
    "    \n",
    "    dg = tmp.index.values[int(d)]\n",
    "    if dg not in denominators:\n",
    "        denominators.append(dg)"
   ]
  },
  {
   "cell_type": "code",
   "execution_count": 11,
   "id": "f084e34c-1218-493e-95d0-127e48fb762d",
   "metadata": {
    "tags": []
   },
   "outputs": [],
   "source": [
    "#\n",
    "# Train\n",
    "#\n",
    "trainX = pd.read_csv(\"../../../data/test/test_input/2023-08-14/synthetic-train-eff-0.5-ndiff-10-frac-0.1-2023-08-14.tsv\",\n",
    "                     sep='\\t', \n",
    "                     index_col=0)\n",
    "\n",
    "trainX = trainX.sample(frac=1.0, axis=1)\n",
    "\n",
    "trainR, trainN = calculate_ratios(trainX)\n",
    "\n",
    "trainN.to_csv(\"../../../data/test/test_input/2023-08-14/synthetic-train-minmax-eff-0.5-ndiff-10-frac-0.1-2023-08-14.tsv\", sep='\\t')\n",
    "\n",
    "trainX = trainR.reindex(ratios)\n",
    "\n",
    "trainY = np.array([0 if x.startswith(\"nonresponders\") else 1 for x in trainX.columns])\n",
    "\n",
    "\n",
    "#\n",
    "# Test\n",
    "#\n",
    "testX = pd.read_csv(\"../../../data/test/test_input/2023-08-14/synthetic-test-eff-0.5-ndiff-10-frac-0.1-2023-08-14.tsv\",\n",
    "                    sep='\\t', \n",
    "                    index_col=0)\n",
    "\n",
    "testX = testX.sample(frac=1.0, axis=1)\n",
    "\n",
    "testR, testN = calculate_ratios(testX)\n",
    "\n",
    "testN.to_csv(\"../../../data/test/test_input/2023-08-14/synthetic-test-minmax-eff-0.5-ndiff-10-frac-0.1-2023-08-14.tsv\", sep='\\t')\n",
    "\n",
    "testX = testR.reindex(ratios)\n",
    "\n",
    "testY = np.array([0 if x.startswith(\"nonresponders\") else 1 for x in testX.columns])"
   ]
  },
  {
   "cell_type": "markdown",
   "id": "3fced942-c74a-4270-904d-a4766956029d",
   "metadata": {},
   "source": [
    "# Elastic Net"
   ]
  },
  {
   "cell_type": "code",
   "execution_count": 12,
   "id": "6d09cd67-92fa-4229-b57d-09ffedabcf57",
   "metadata": {
    "jupyter": {
     "source_hidden": true
    },
    "tags": []
   },
   "outputs": [],
   "source": [
    "# Elastic Net\n",
    "elastic_net_model, elastic_net_model_features, elastic_net_model_best_value, elastic_net_model_params = get_elasticnet_model(trainX.values.T, trainY, n_trials=100)"
   ]
  },
  {
   "cell_type": "code",
   "execution_count": 13,
   "id": "282ff120-d097-48e3-8255-d1e4cb93859f",
   "metadata": {
    "tags": []
   },
   "outputs": [
    {
     "data": {
      "text/plain": [
       "0.923076923076923"
      ]
     },
     "execution_count": 13,
     "metadata": {},
     "output_type": "execute_result"
    }
   ],
   "source": [
    "# Elastic Net Best Value\n",
    "elastic_net_model_best_value"
   ]
  },
  {
   "cell_type": "code",
   "execution_count": 14,
   "id": "ed0f7bf9-ad2c-43c3-b778-02cee7652e1c",
   "metadata": {
    "tags": []
   },
   "outputs": [
    {
     "data": {
      "text/plain": [
       "0.8571428571428571"
      ]
     },
     "execution_count": 14,
     "metadata": {},
     "output_type": "execute_result"
    }
   ],
   "source": [
    "# Elastic Net Of of Sample Prediction\n",
    "X_test = testX.values.T\n",
    "_X_test = X_test[:, elastic_net_model_features]\n",
    "\n",
    "elastic_net_test_yhat = elastic_net_model.predict(_X_test)\n",
    "f1_score(testY, elastic_net_test_yhat)"
   ]
  },
  {
   "cell_type": "markdown",
   "id": "e19272d7-7255-4eb1-a2e0-5a81de56b5d0",
   "metadata": {},
   "source": [
    "# RBF SVM"
   ]
  },
  {
   "cell_type": "code",
   "execution_count": 15,
   "id": "b7b0adc0-dd90-4f1e-b9da-baf470decfc3",
   "metadata": {},
   "outputs": [
    {
     "name": "stdout",
     "output_type": "stream",
     "text": [
      "Stopping study because perfect score is reached\n"
     ]
    }
   ],
   "source": [
    "rbf_svm_model, rbf_svm_model_features, rbf_svm_model_best_value, rbf_svm_model_params = get_svm_rbf_model(trainX.values.T, trainY, n_trials=100)"
   ]
  },
  {
   "cell_type": "code",
   "execution_count": 16,
   "id": "0b91d7f8-68e7-4b5b-a9a0-9efab557af50",
   "metadata": {},
   "outputs": [
    {
     "data": {
      "text/plain": [
       "1.0"
      ]
     },
     "execution_count": 16,
     "metadata": {},
     "output_type": "execute_result"
    }
   ],
   "source": [
    "rbf_svm_model_best_value"
   ]
  },
  {
   "cell_type": "code",
   "execution_count": 17,
   "id": "3d72f1a0-3c8e-49c7-9598-d1f71b5bc8a8",
   "metadata": {},
   "outputs": [
    {
     "data": {
      "text/plain": [
       "0.9230769230769231"
      ]
     },
     "execution_count": 17,
     "metadata": {},
     "output_type": "execute_result"
    }
   ],
   "source": [
    "# Elastic Net Of of Sample Prediction\n",
    "X_test = testX.values.T\n",
    "_X_test = X_test[:, rbf_svm_model_features]\n",
    "\n",
    "rbf_svm_test_yhat = rbf_svm_model.predict(_X_test)\n",
    "f1_score(testY, rbf_svm_test_yhat)"
   ]
  },
  {
   "cell_type": "markdown",
   "id": "185a9e42-bbb4-41f7-81c9-f57cb1e75172",
   "metadata": {},
   "source": [
    "# Linear SVM"
   ]
  },
  {
   "cell_type": "code",
   "execution_count": 18,
   "id": "8024538c-cf54-4a73-841c-d8fa88a708cc",
   "metadata": {},
   "outputs": [],
   "source": [
    "linear_svm_model, linear_svm_model_features, linear_svm_model_best_value, linear_svm_model_params = get_svm_linear_model(trainX.values.T, trainY, n_trials=100)"
   ]
  },
  {
   "cell_type": "code",
   "execution_count": 19,
   "id": "8ed53983-be2c-4900-acc8-f85f149a00bf",
   "metadata": {},
   "outputs": [
    {
     "data": {
      "text/plain": [
       "0.9090909090909091"
      ]
     },
     "execution_count": 19,
     "metadata": {},
     "output_type": "execute_result"
    }
   ],
   "source": [
    "linear_svm_model_best_value"
   ]
  },
  {
   "cell_type": "code",
   "execution_count": 20,
   "id": "c0a8500a-5901-4e52-b013-e760cb6e8822",
   "metadata": {
    "tags": []
   },
   "outputs": [
    {
     "data": {
      "text/plain": [
       "0.9230769230769231"
      ]
     },
     "execution_count": 20,
     "metadata": {},
     "output_type": "execute_result"
    }
   ],
   "source": [
    "# Elastic Net Of of Sample Prediction\n",
    "X_test = testX.values.T\n",
    "_X_test = X_test[:, linear_svm_model_features]\n",
    "\n",
    "linear_svm_test_yhat = linear_svm_model.predict(_X_test)\n",
    "f1_score(testY, linear_svm_test_yhat)"
   ]
  },
  {
   "cell_type": "code",
   "execution_count": 22,
   "id": "31972e3f-1837-4c01-ad0b-beea21643c30",
   "metadata": {},
   "outputs": [
    {
     "data": {
      "image/png": "[encoded data removed]",
      "text/plain": [
       "<Figure size 1000x500 with 2 Axes>"
      ]
     },
     "metadata": {},
     "output_type": "display_data"
    }
   ],
   "source": [
    "import matplotlib.pyplot as plt\n",
    "plt.rcParams.update({'font.size': 14})\n",
    "\n",
    "fig, axes = plt.subplots(1, 2, figsize=(10, 5))\n",
    "\n",
    "axes[0].plot(np.linspace(0, 1.0, 10), np.linspace(0.0, 1.0, 10), linestyle='--', color=\"gray\")\n",
    "axes[1].plot(np.linspace(0, 1.0, 10), np.linspace(0.0, 1.0, 10), linestyle='--', color=\"gray\")\n",
    "\n",
    "for name, model, _features in [(\"ElasticNet\", elastic_net_model, elastic_net_model_features), \n",
    "                              (\"Linear SVM\", linear_svm_model, linear_svm_model_features), \n",
    "                              (\"RBF SVM\", rbf_svm_model, rbf_svm_model_features)]:\n",
    "    \n",
    "    X_train = trainX.values.T\n",
    "    _X_train = X_train[:, _features]\n",
    "\n",
    "    RocCurveDisplay.from_estimator(model, \n",
    "                                   _X_train, \n",
    "                                   trainY, \n",
    "                                   name=name,\n",
    "                                   ax=axes[0])\n",
    "    \n",
    "    X_test = testX.values.T\n",
    "    _X_test = X_test[:, _features]\n",
    "\n",
    "    RocCurveDisplay.from_estimator(model, \n",
    "                                   _X_test, \n",
    "                                   testY, \n",
    "                                   name=name,\n",
    "                                   ax=axes[1])\n",
    "\n",
    "axes[0].set_title(\"ROC Curve for Synthetic Training Data\")\n",
    "axes[1].set_title(\"ROC Curve for Synthetic Testing Data\")\n",
    "\n",
    "plt.tight_layout()\n",
    "\n",
    "plt.savefig(\"../../../figures/synthetic/synthetic-ratio-ml-prediction-roc-curve-plots.svg\", \n",
    "            format='svg', \n",
    "            bbox_inches='tight')"
   ]
  },
  {
   "cell_type": "code",
   "execution_count": null,
   "id": "94a6f8d6-51c8-4f00-8e41-31aef821cd13",
   "metadata": {},
   "outputs": [],
   "source": []
  }
 ],
 "metadata": {
  "kernelspec": {
   "display_name": "Python 3 (ipykernel)",
   "language": "python",
   "name": "python3"
  },
  "language_info": {
   "codemirror_mode": {
    "name": "ipython",
    "version": 3
   },
   "file_extension": ".py",
   "mimetype": "text/x-python",
   "name": "python",
   "nbconvert_exporter": "python",
   "pygments_lexer": "ipython3",
   "version": "3.10.11"
  }
 },
 "nbformat": 4,
 "nbformat_minor": 5
}
