{
 "cells": [
  {
   "cell_type": "code",
   "execution_count": 1,
   "id": "dd4b4a93-44c3-48cc-8cee-b0fe806e7483",
   "metadata": {
    "tags": []
   },
   "outputs": [],
   "source": [
    "import os"
   ]
  },
  {
   "cell_type": "code",
   "execution_count": 2,
   "id": "57782c9c-a9c3-4bc8-ab58-ca464645af87",
   "metadata": {
    "tags": []
   },
   "outputs": [
    {
     "data": {
      "text/plain": [
       "'/home/jovyan/work/taux/manuscript/data/test/test_input/2024-01-09'"
      ]
     },
     "execution_count": 2,
     "metadata": {},
     "output_type": "execute_result"
    }
   ],
   "source": [
    "input_dir = os.path.abspath(\"../../../data/test/test_input/2024-01-09/\")\n",
    "input_dir"
   ]
  },
  {
   "cell_type": "code",
   "execution_count": 3,
   "id": "3b2d3ad1-0cce-40ae-bbfd-be2b3efb0ec7",
   "metadata": {
    "tags": []
   },
   "outputs": [
    {
     "data": {
      "text/plain": [
       "'/home/jovyan/work/taux/manuscript/bin/top-var-validator.py'"
      ]
     },
     "execution_count": 3,
     "metadata": {},
     "output_type": "execute_result"
    }
   ],
   "source": [
    "top_var_script_path = os.path.abspath(\"../../../bin/top-var-validator.py\")\n",
    "top_var_script_path"
   ]
  },
  {
   "cell_type": "code",
   "execution_count": 4,
   "id": "e299c628-c8be-4c93-8a92-df9b2068882b",
   "metadata": {
    "tags": []
   },
   "outputs": [
    {
     "data": {
      "text/plain": [
       "'/home/jovyan/work/taux/manuscript/bin/top-diff-validator.py'"
      ]
     },
     "execution_count": 4,
     "metadata": {},
     "output_type": "execute_result"
    }
   ],
   "source": [
    "top_diff_script_path = os.path.abspath(\"../../../bin/top-diff-validator.py\")\n",
    "top_diff_script_path"
   ]
  },
  {
   "cell_type": "code",
   "execution_count": 5,
   "id": "12b4e55e-3663-48c7-8a35-177bb68df26c",
   "metadata": {
    "tags": []
   },
   "outputs": [
    {
     "data": {
      "text/plain": [
       "'/home/jovyan/work/taux/manuscript/bin/top-ratio-validator.py'"
      ]
     },
     "execution_count": 5,
     "metadata": {},
     "output_type": "execute_result"
    }
   ],
   "source": [
    "top_ratio_script_path = os.path.abspath(\"../../../bin/top-ratio-validator.py\")\n",
    "top_ratio_script_path"
   ]
  },
  {
   "cell_type": "code",
   "execution_count": 6,
   "id": "7e011841-66ee-410c-83bd-a9e04d7e47ef",
   "metadata": {
    "tags": []
   },
   "outputs": [
    {
     "data": {
      "text/plain": [
       "'/home/jovyan/work/taux/manuscript/data/test/test_output/2024-01-09'"
      ]
     },
     "execution_count": 6,
     "metadata": {},
     "output_type": "execute_result"
    }
   ],
   "source": [
    "output_dir = os.path.abspath(\"../../../data/test/test_output/2024-01-09/\")\n",
    "output_dir"
   ]
  },
  {
   "cell_type": "code",
   "execution_count": 13,
   "id": "e4b3710d-8538-4242-92f9-6c560f1dadb8",
   "metadata": {
    "tags": []
   },
   "outputs": [],
   "source": [
    "assert os.path.exists(input_dir)\n",
    "assert os.path.exists(top_var_script_path)\n",
    "\n",
    "os.makedirs(output_dir, exist_ok=True)\n",
    "cmds = []\n",
    "for effect in sorted([3.0, 2.0, 1.0, 0.75, 0.5, 0.25]):\n",
    "    for ndiff in [50, 25, 15, 10, 5]:\n",
    "        for corr in [0.25, 0.5, 0.75, 0.9]:\n",
    "            for frac in [0.05, 0.10, 0.15, 0.2, 0.25]:\n",
    "                for script in [top_var_script_path, top_diff_script_path, top_ratio_script_path]:\n",
    "                    cmd = [\"python\", script, \"--input-dir\", input_dir, \"--output-dir\", output_dir, \"--effect\", effect, \"--nratios\", ndiff, \"--corr\", corr, \"--frac\", frac, \"--date\", \"2024-01-09\"]\n",
    "                    cmds.append(\" \".join([str(x) for x in cmd]))"
   ]
  },
  {
   "cell_type": "code",
   "execution_count": 15,
   "id": "fa5adf47-d534-4da4-8556-099ff95e7eb9",
   "metadata": {
    "tags": []
   },
   "outputs": [],
   "source": [
    "import random \n",
    "\n",
    "random.shuffle(cmds)"
   ]
  },
  {
   "cell_type": "code",
   "execution_count": 18,
   "id": "2cd8102e-a3de-474a-8c38-00e5502a1d44",
   "metadata": {
    "tags": []
   },
   "outputs": [],
   "source": [
    "with open(\"validation-parallel-jobs.txt\", \"wt\") as f:\n",
    "    for cmd in cmds:\n",
    "        f.write(cmd + '\\n')"
   ]
  },
  {
   "cell_type": "code",
   "execution_count": null,
   "id": "d929e8d2-3989-49b9-831d-548938fd7120",
   "metadata": {},
   "outputs": [],
   "source": []
  }
 ],
 "metadata": {
  "kernelspec": {
   "display_name": "Python 3 (ipykernel)",
   "language": "python",
   "name": "python3"
  },
  "language_info": {
   "codemirror_mode": {
    "name": "ipython",
    "version": 3
   },
   "file_extension": ".py",
   "mimetype": "text/x-python",
   "name": "python",
   "nbconvert_exporter": "python",
   "pygments_lexer": "ipython3",
   "version": "3.10.11"
  }
 },
 "nbformat": 4,
 "nbformat_minor": 5
}
