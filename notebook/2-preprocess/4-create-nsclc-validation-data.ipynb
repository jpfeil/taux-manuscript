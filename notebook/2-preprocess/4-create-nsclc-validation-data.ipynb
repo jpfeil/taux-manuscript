{
 "cells": [
  {
   "cell_type": "code",
   "execution_count": 1,
   "metadata": {
    "tags": []
   },
   "outputs": [],
   "source": [
    "import os\n",
    "import numpy as np\n",
    "import pandas as pd\n",
    "from sklearn import preprocessing\n",
    "from sklearn.model_selection import train_test_split\n",
    "from bioinfokit.analys import norm\n",
    "from datetime import datetime, timezone"
   ]
  },
  {
   "cell_type": "code",
   "execution_count": 2,
   "metadata": {},
   "outputs": [],
   "source": [
    "# Set random seed so this part is reproducible\n",
    "# https://www.random.org/ 2023-08-09\n",
    "np.random.seed(3866)"
   ]
  },
  {
   "cell_type": "code",
   "execution_count": 3,
   "metadata": {
    "tags": []
   },
   "outputs": [],
   "source": [
    "pth = \"../../data/reference/gene-data.tsv\"\n",
    "gene_data = pd.read_csv(pth, sep='\\t')"
   ]
  },
  {
   "cell_type": "code",
   "execution_count": 4,
   "metadata": {
    "tags": []
   },
   "outputs": [],
   "source": [
    "def minmax_norm(tpm):\n",
    "\n",
    "    scaler = preprocessing.MinMaxScaler(feature_range=(1, 100))\n",
    "    norm = pd.DataFrame(index=tpm.index, columns=tpm.columns)\n",
    "\n",
    "    gene_bounds = pd.DataFrame(index=tpm.index, columns=['q1', 'q2', 'q3', 'upper_outlier', 'lower_outlier'])\n",
    "\n",
    "    for gene in norm.index.values:\n",
    "\n",
    "        try:\n",
    "\n",
    "            vec = tpm.loc[gene, :].values.reshape(-1, 1)\n",
    "            q1 = np.percentile(vec, 25)\n",
    "            q2 = np.percentile(vec, 50)\n",
    "            q3 = np.percentile(vec, 75)\n",
    "\n",
    "            upper_outlier = q3 + 1.5 * (q3 - q1)\n",
    "            lower_outlier = q1 - 1.5 * (q3 - q1)\n",
    "\n",
    "            gene_bounds.loc[gene, :] = [q1, q2, q3, upper_outlier, lower_outlier]\n",
    "\n",
    "            idx, _ = np.where(vec > upper_outlier)\n",
    "            vec[idx] = upper_outlier\n",
    "\n",
    "            idx, _ = np.where(vec < lower_outlier)\n",
    "            vec[idx] = lower_outlier\n",
    "\n",
    "            norm.loc[gene, :] = scaler.fit_transform(vec).flatten()\n",
    "\n",
    "        except Exception as e:\n",
    "            print(e)\n",
    "            continue\n",
    "            \n",
    "    return norm"
   ]
  },
  {
   "cell_type": "code",
   "execution_count": 11,
   "metadata": {},
   "outputs": [
    {
     "name": "stdout",
     "output_type": "stream",
     "text": [
      "(21135, 601)\n"
     ]
    }
   ],
   "source": [
    "def generate_tcga_luad_data():\n",
    "    \n",
    "    tcga_luad_tpm = pd.read_csv(\"../../data/tcga/TCGA-LUAD-TPM-recount3-2023-02-21.tsv\",\n",
    "                                sep='\\t',\n",
    "                                index_col=0)\n",
    "    \n",
    "    tcga_luad_tpm.index = [x.split(\".\")[0] for x in tcga_luad_tpm.index.values]\n",
    "    \n",
    "    tcga_luad_log2tpm1 = np.log2(tcga_luad_tpm + 1.0)\n",
    "    tcga_luad_tpm = tcga_luad_tpm[tcga_luad_log2tpm1.mean(axis=1) > 1.0]\n",
    "    \n",
    "    tcga_luad_minmax = minmax_norm(tcga_luad_tpm)\n",
    "    \n",
    "    print(tcga_luad_minmax.shape)\n",
    "    \n",
    "    tcga_luad_minmax.to_csv(\"../../data/expression/processed/TCGA-LUAD-MinMaxNorm-2023-08-28.tsv\", sep='\\t')\n",
    "    \n",
    "generate_tcga_luad_data()"
   ]
  },
  {
   "cell_type": "code",
   "execution_count": null,
   "metadata": {},
   "outputs": [],
   "source": []
  }
 ],
 "metadata": {
  "kernelspec": {
   "display_name": "Python 3",
   "language": "python",
   "name": "python3"
  },
  "language_info": {
   "codemirror_mode": {
    "name": "ipython",
    "version": 3
   },
   "file_extension": ".py",
   "mimetype": "text/x-python",
   "name": "python",
   "nbconvert_exporter": "python",
   "pygments_lexer": "ipython3",
   "version": "3.8.18"
  }
 },
 "nbformat": 4,
 "nbformat_minor": 5
}
